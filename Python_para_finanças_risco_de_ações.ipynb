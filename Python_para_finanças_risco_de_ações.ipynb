{
  "nbformat": 4,
  "nbformat_minor": 0,
  "metadata": {
    "colab": {
      "name": "Python para finanças - risco de ações.ipynb",
      "provenance": [],
      "include_colab_link": true
    },
    "kernelspec": {
      "name": "python3",
      "display_name": "Python 3"
    }
  },
  "cells": [
    {
      "cell_type": "markdown",
      "metadata": {
        "id": "view-in-github",
        "colab_type": "text"
      },
      "source": [
        "<a href=\"https://colab.research.google.com/github/viniciusriosfuck/python-financas/blob/main/Python_para_finan%C3%A7as_risco_de_a%C3%A7%C3%B5es.ipynb\" target=\"_parent\"><img src=\"https://colab.research.google.com/assets/colab-badge.svg\" alt=\"Open In Colab\"/></a>"
      ]
    },
    {
      "cell_type": "markdown",
      "metadata": {
        "id": "Bgg_AisGjfoy"
      },
      "source": [
        "# Python para finanças - risco de ações"
      ]
    },
    {
      "cell_type": "markdown",
      "metadata": {
        "id": "9s1HEBOJRT4U"
      },
      "source": [
        "Desvio padrão: std ~ risco"
      ]
    },
    {
      "cell_type": "markdown",
      "metadata": {
        "id": "x7M2Np1bji4T"
      },
      "source": [
        "## Importação das bibliotecas e base de dados"
      ]
    },
    {
      "cell_type": "code",
      "metadata": {
        "id": "WgwxIUe5XG42"
      },
      "source": [
        "import pandas as pd\n",
        "import numpy as np\n",
        "import matplotlib.pyplot as plt\n",
        "import seaborn as sns\n",
        "from scipy import stats"
      ],
      "execution_count": null,
      "outputs": []
    },
    {
      "cell_type": "markdown",
      "metadata": {
        "id": "NpPPYG7G1vhC"
      },
      "source": [
        "Valores de fechamento por dia"
      ]
    },
    {
      "cell_type": "code",
      "metadata": {
        "colab": {
          "base_uri": "https://localhost:8080/",
          "height": 406
        },
        "id": "MQLHge-fRE87",
        "outputId": "2fe5f14f-79ff-4070-bc44-74a592c5b3f9"
      },
      "source": [
        "import pandas as pd\r\n",
        "from pandas_datareader import data\r\n",
        "\r\n",
        "acoes = ['GOLL4.SA', 'CVCB3.SA', 'WEGE3.SA', 'MGLU3.SA', 'TOTS3.SA', 'BOVA11.SA']\r\n",
        "acoes_df = pd.DataFrame()\r\n",
        "for acao in acoes:\r\n",
        "  acoes_df[acao] = data.DataReader(acao, data_source='yahoo', start='2015-01-01')['Close']\r\n",
        "\r\n",
        "acoes_df = acoes_df.rename(columns={'GOLL4.SA': 'GOL', 'CVCB3.SA': 'CVC', 'WEGE3.SA': 'WEGE',\r\n",
        "                                    'MGLU3.SA': 'MGLU', 'TOTS3.SA': 'TOTS', 'BOVA11.SA': 'BOVA'})\r\n",
        "\r\n",
        "acoes_df.dropna(inplace=True)\r\n",
        "acoes_df.to_csv('acoes.csv')\r\n",
        "\r\n",
        "dataset_raw = pd.read_csv('acoes.csv')\r\n",
        "\r\n",
        "days_bolsa = 246\r\n",
        "\r\n",
        "dataset_raw"
      ],
      "execution_count": null,
      "outputs": [
        {
          "output_type": "execute_result",
          "data": {
            "text/html": [
              "<div>\n",
              "<style scoped>\n",
              "    .dataframe tbody tr th:only-of-type {\n",
              "        vertical-align: middle;\n",
              "    }\n",
              "\n",
              "    .dataframe tbody tr th {\n",
              "        vertical-align: top;\n",
              "    }\n",
              "\n",
              "    .dataframe thead th {\n",
              "        text-align: right;\n",
              "    }\n",
              "</style>\n",
              "<table border=\"1\" class=\"dataframe\">\n",
              "  <thead>\n",
              "    <tr style=\"text-align: right;\">\n",
              "      <th></th>\n",
              "      <th>Date</th>\n",
              "      <th>GOL</th>\n",
              "      <th>CVC</th>\n",
              "      <th>WEGE</th>\n",
              "      <th>MGLU</th>\n",
              "      <th>TOTS</th>\n",
              "      <th>BOVA</th>\n",
              "    </tr>\n",
              "  </thead>\n",
              "  <tbody>\n",
              "    <tr>\n",
              "      <th>0</th>\n",
              "      <td>2015-01-02</td>\n",
              "      <td>14.990000</td>\n",
              "      <td>15.200000</td>\n",
              "      <td>11.846153</td>\n",
              "      <td>0.232812</td>\n",
              "      <td>11.910702</td>\n",
              "      <td>47.259998</td>\n",
              "    </tr>\n",
              "    <tr>\n",
              "      <th>1</th>\n",
              "      <td>2015-01-05</td>\n",
              "      <td>14.850000</td>\n",
              "      <td>15.000000</td>\n",
              "      <td>11.926923</td>\n",
              "      <td>0.237187</td>\n",
              "      <td>11.544731</td>\n",
              "      <td>46.320000</td>\n",
              "    </tr>\n",
              "    <tr>\n",
              "      <th>2</th>\n",
              "      <td>2015-01-06</td>\n",
              "      <td>15.210000</td>\n",
              "      <td>14.800000</td>\n",
              "      <td>11.750000</td>\n",
              "      <td>0.234062</td>\n",
              "      <td>10.822770</td>\n",
              "      <td>46.580002</td>\n",
              "    </tr>\n",
              "    <tr>\n",
              "      <th>3</th>\n",
              "      <td>2015-01-07</td>\n",
              "      <td>14.550000</td>\n",
              "      <td>14.670000</td>\n",
              "      <td>11.615384</td>\n",
              "      <td>0.241875</td>\n",
              "      <td>10.746248</td>\n",
              "      <td>48.150002</td>\n",
              "    </tr>\n",
              "    <tr>\n",
              "      <th>4</th>\n",
              "      <td>2015-01-08</td>\n",
              "      <td>14.270000</td>\n",
              "      <td>14.150000</td>\n",
              "      <td>11.811538</td>\n",
              "      <td>0.240000</td>\n",
              "      <td>10.995774</td>\n",
              "      <td>48.509998</td>\n",
              "    </tr>\n",
              "    <tr>\n",
              "      <th>...</th>\n",
              "      <td>...</td>\n",
              "      <td>...</td>\n",
              "      <td>...</td>\n",
              "      <td>...</td>\n",
              "      <td>...</td>\n",
              "      <td>...</td>\n",
              "      <td>...</td>\n",
              "    </tr>\n",
              "    <tr>\n",
              "      <th>1498</th>\n",
              "      <td>2021-01-22</td>\n",
              "      <td>22.670000</td>\n",
              "      <td>18.370001</td>\n",
              "      <td>88.260002</td>\n",
              "      <td>26.000000</td>\n",
              "      <td>30.150000</td>\n",
              "      <td>113.180000</td>\n",
              "    </tr>\n",
              "    <tr>\n",
              "      <th>1499</th>\n",
              "      <td>2021-01-26</td>\n",
              "      <td>22.209999</td>\n",
              "      <td>17.440001</td>\n",
              "      <td>88.949997</td>\n",
              "      <td>25.750000</td>\n",
              "      <td>30.110001</td>\n",
              "      <td>112.970001</td>\n",
              "    </tr>\n",
              "    <tr>\n",
              "      <th>1500</th>\n",
              "      <td>2021-01-27</td>\n",
              "      <td>23.030001</td>\n",
              "      <td>18.020000</td>\n",
              "      <td>88.690002</td>\n",
              "      <td>25.790001</td>\n",
              "      <td>28.740000</td>\n",
              "      <td>112.970001</td>\n",
              "    </tr>\n",
              "    <tr>\n",
              "      <th>1501</th>\n",
              "      <td>2021-01-28</td>\n",
              "      <td>24.610001</td>\n",
              "      <td>19.240000</td>\n",
              "      <td>87.970001</td>\n",
              "      <td>26.190001</td>\n",
              "      <td>29.459999</td>\n",
              "      <td>113.910004</td>\n",
              "    </tr>\n",
              "    <tr>\n",
              "      <th>1502</th>\n",
              "      <td>2021-01-29</td>\n",
              "      <td>23.950001</td>\n",
              "      <td>19.020000</td>\n",
              "      <td>86.089996</td>\n",
              "      <td>25.559999</td>\n",
              "      <td>28.559999</td>\n",
              "      <td>110.559998</td>\n",
              "    </tr>\n",
              "  </tbody>\n",
              "</table>\n",
              "<p>1503 rows × 7 columns</p>\n",
              "</div>"
            ],
            "text/plain": [
              "            Date        GOL        CVC  ...       MGLU       TOTS        BOVA\n",
              "0     2015-01-02  14.990000  15.200000  ...   0.232812  11.910702   47.259998\n",
              "1     2015-01-05  14.850000  15.000000  ...   0.237187  11.544731   46.320000\n",
              "2     2015-01-06  15.210000  14.800000  ...   0.234062  10.822770   46.580002\n",
              "3     2015-01-07  14.550000  14.670000  ...   0.241875  10.746248   48.150002\n",
              "4     2015-01-08  14.270000  14.150000  ...   0.240000  10.995774   48.509998\n",
              "...          ...        ...        ...  ...        ...        ...         ...\n",
              "1498  2021-01-22  22.670000  18.370001  ...  26.000000  30.150000  113.180000\n",
              "1499  2021-01-26  22.209999  17.440001  ...  25.750000  30.110001  112.970001\n",
              "1500  2021-01-27  23.030001  18.020000  ...  25.790001  28.740000  112.970001\n",
              "1501  2021-01-28  24.610001  19.240000  ...  26.190001  29.459999  113.910004\n",
              "1502  2021-01-29  23.950001  19.020000  ...  25.559999  28.559999  110.559998\n",
              "\n",
              "[1503 rows x 7 columns]"
            ]
          },
          "metadata": {
            "tags": []
          },
          "execution_count": 2
        }
      ]
    },
    {
      "cell_type": "code",
      "metadata": {
        "colab": {
          "base_uri": "https://localhost:8080/"
        },
        "id": "rUvVdaDpSTv7",
        "outputId": "213ef1e7-eaad-4b45-b39b-805ac37cbd92"
      },
      "source": [
        "dataset = pd.read_csv('acoes.csv')\r\n",
        "dataset['Date'] = pd.to_datetime(dataset['Date'])\r\n",
        "dataset.info()"
      ],
      "execution_count": null,
      "outputs": [
        {
          "output_type": "stream",
          "text": [
            "<class 'pandas.core.frame.DataFrame'>\n",
            "RangeIndex: 1503 entries, 0 to 1502\n",
            "Data columns (total 7 columns):\n",
            " #   Column  Non-Null Count  Dtype         \n",
            "---  ------  --------------  -----         \n",
            " 0   Date    1503 non-null   datetime64[ns]\n",
            " 1   GOL     1503 non-null   float64       \n",
            " 2   CVC     1503 non-null   float64       \n",
            " 3   WEGE    1503 non-null   float64       \n",
            " 4   MGLU    1503 non-null   float64       \n",
            " 5   TOTS    1503 non-null   float64       \n",
            " 6   BOVA    1503 non-null   float64       \n",
            "dtypes: datetime64[ns](1), float64(6)\n",
            "memory usage: 82.3 KB\n"
          ],
          "name": "stdout"
        }
      ]
    },
    {
      "cell_type": "code",
      "metadata": {
        "colab": {
          "base_uri": "https://localhost:8080/",
          "height": 287
        },
        "id": "SxnQkBVhcVvf",
        "outputId": "084bec5a-2ee8-4068-e7af-c8594338ad76"
      },
      "source": [
        "dataset.describe()"
      ],
      "execution_count": null,
      "outputs": [
        {
          "output_type": "execute_result",
          "data": {
            "text/html": [
              "<div>\n",
              "<style scoped>\n",
              "    .dataframe tbody tr th:only-of-type {\n",
              "        vertical-align: middle;\n",
              "    }\n",
              "\n",
              "    .dataframe tbody tr th {\n",
              "        vertical-align: top;\n",
              "    }\n",
              "\n",
              "    .dataframe thead th {\n",
              "        text-align: right;\n",
              "    }\n",
              "</style>\n",
              "<table border=\"1\" class=\"dataframe\">\n",
              "  <thead>\n",
              "    <tr style=\"text-align: right;\">\n",
              "      <th></th>\n",
              "      <th>GOL</th>\n",
              "      <th>CVC</th>\n",
              "      <th>WEGE</th>\n",
              "      <th>MGLU</th>\n",
              "      <th>TOTS</th>\n",
              "      <th>BOVA</th>\n",
              "    </tr>\n",
              "  </thead>\n",
              "  <tbody>\n",
              "    <tr>\n",
              "      <th>count</th>\n",
              "      <td>1503.000000</td>\n",
              "      <td>1503.000000</td>\n",
              "      <td>1503.000000</td>\n",
              "      <td>1503.000000</td>\n",
              "      <td>1503.000000</td>\n",
              "      <td>1503.000000</td>\n",
              "    </tr>\n",
              "    <tr>\n",
              "      <th>mean</th>\n",
              "      <td>14.908104</td>\n",
              "      <td>32.315944</td>\n",
              "      <td>23.147071</td>\n",
              "      <td>5.391807</td>\n",
              "      <td>13.602818</td>\n",
              "      <td>73.204955</td>\n",
              "    </tr>\n",
              "    <tr>\n",
              "      <th>std</th>\n",
              "      <td>10.203350</td>\n",
              "      <td>16.053375</td>\n",
              "      <td>17.902067</td>\n",
              "      <td>7.036146</td>\n",
              "      <td>5.959124</td>\n",
              "      <td>20.867653</td>\n",
              "    </tr>\n",
              "    <tr>\n",
              "      <th>min</th>\n",
              "      <td>1.160000</td>\n",
              "      <td>6.490000</td>\n",
              "      <td>9.884615</td>\n",
              "      <td>0.030585</td>\n",
              "      <td>7.156402</td>\n",
              "      <td>36.450001</td>\n",
              "    </tr>\n",
              "    <tr>\n",
              "      <th>25%</th>\n",
              "      <td>6.915000</td>\n",
              "      <td>18.059999</td>\n",
              "      <td>12.707692</td>\n",
              "      <td>0.212500</td>\n",
              "      <td>9.837974</td>\n",
              "      <td>55.020000</td>\n",
              "    </tr>\n",
              "    <tr>\n",
              "      <th>50%</th>\n",
              "      <td>12.370000</td>\n",
              "      <td>27.750000</td>\n",
              "      <td>17.115383</td>\n",
              "      <td>2.464062</td>\n",
              "      <td>10.739594</td>\n",
              "      <td>72.070000</td>\n",
              "    </tr>\n",
              "    <tr>\n",
              "      <th>75%</th>\n",
              "      <td>21.045000</td>\n",
              "      <td>47.180000</td>\n",
              "      <td>22.400000</td>\n",
              "      <td>7.375781</td>\n",
              "      <td>15.431667</td>\n",
              "      <td>92.130001</td>\n",
              "    </tr>\n",
              "    <tr>\n",
              "      <th>max</th>\n",
              "      <td>43.790001</td>\n",
              "      <td>64.800003</td>\n",
              "      <td>92.209999</td>\n",
              "      <td>27.450001</td>\n",
              "      <td>31.070000</td>\n",
              "      <td>120.400002</td>\n",
              "    </tr>\n",
              "  </tbody>\n",
              "</table>\n",
              "</div>"
            ],
            "text/plain": [
              "               GOL          CVC  ...         TOTS         BOVA\n",
              "count  1503.000000  1503.000000  ...  1503.000000  1503.000000\n",
              "mean     14.908104    32.315944  ...    13.602818    73.204955\n",
              "std      10.203350    16.053375  ...     5.959124    20.867653\n",
              "min       1.160000     6.490000  ...     7.156402    36.450001\n",
              "25%       6.915000    18.059999  ...     9.837974    55.020000\n",
              "50%      12.370000    27.750000  ...    10.739594    72.070000\n",
              "75%      21.045000    47.180000  ...    15.431667    92.130001\n",
              "max      43.790001    64.800003  ...    31.070000   120.400002\n",
              "\n",
              "[8 rows x 6 columns]"
            ]
          },
          "metadata": {
            "tags": []
          },
          "execution_count": 4
        }
      ]
    },
    {
      "cell_type": "markdown",
      "metadata": {
        "id": "p4HqYENwJOwP"
      },
      "source": [
        "## Cálculo dos retornos anuais"
      ]
    },
    {
      "cell_type": "markdown",
      "metadata": {
        "id": "9ia8TCxKgIJD"
      },
      "source": [
        "Logarítimica: comparar mesma ação em períodos diferentes"
      ]
    },
    {
      "cell_type": "code",
      "metadata": {
        "colab": {
          "base_uri": "https://localhost:8080/",
          "height": 407
        },
        "id": "9hIgxXzJTEIq",
        "outputId": "e9162c44-58ad-40ad-b6ec-8eb448be7f01"
      },
      "source": [
        "dctYearlyRL = {}\r\n",
        "\r\n",
        "dfFirstLastDayYear = pd.DataFrame(columns=dataset.columns)\r\n",
        "actions = list(dataset.columns[1:])\r\n",
        "for year in range(2015, 2021):\r\n",
        "    mask = dataset['Date'].dt.year==year\r\n",
        "    \r\n",
        "    firstValuesYear = dataset.loc[mask].iloc[0,1:]\r\n",
        "    lastValuesYear = dataset.loc[mask].iloc[-1,1:]\r\n",
        "    dfFirstLastDayYear=dfFirstLastDayYear.append(dataset.loc[mask].iloc[[0,-1]])\r\n",
        "    dctYearlyRL[str(year)] = list(zip(actions,(lastValuesYear/firstValuesYear).apply(pd.to_numeric).apply(np.log)))\r\n",
        "dfFirstLastDayYear"
      ],
      "execution_count": null,
      "outputs": [
        {
          "output_type": "execute_result",
          "data": {
            "text/html": [
              "<div>\n",
              "<style scoped>\n",
              "    .dataframe tbody tr th:only-of-type {\n",
              "        vertical-align: middle;\n",
              "    }\n",
              "\n",
              "    .dataframe tbody tr th {\n",
              "        vertical-align: top;\n",
              "    }\n",
              "\n",
              "    .dataframe thead th {\n",
              "        text-align: right;\n",
              "    }\n",
              "</style>\n",
              "<table border=\"1\" class=\"dataframe\">\n",
              "  <thead>\n",
              "    <tr style=\"text-align: right;\">\n",
              "      <th></th>\n",
              "      <th>Date</th>\n",
              "      <th>GOL</th>\n",
              "      <th>CVC</th>\n",
              "      <th>WEGE</th>\n",
              "      <th>MGLU</th>\n",
              "      <th>TOTS</th>\n",
              "      <th>BOVA</th>\n",
              "    </tr>\n",
              "  </thead>\n",
              "  <tbody>\n",
              "    <tr>\n",
              "      <th>0</th>\n",
              "      <td>2015-01-02</td>\n",
              "      <td>14.990000</td>\n",
              "      <td>15.200000</td>\n",
              "      <td>11.846153</td>\n",
              "      <td>0.232812</td>\n",
              "      <td>11.910702</td>\n",
              "      <td>47.259998</td>\n",
              "    </tr>\n",
              "    <tr>\n",
              "      <th>245</th>\n",
              "      <td>2015-12-30</td>\n",
              "      <td>2.520000</td>\n",
              "      <td>13.500000</td>\n",
              "      <td>11.500000</td>\n",
              "      <td>0.068945</td>\n",
              "      <td>10.323718</td>\n",
              "      <td>42.130001</td>\n",
              "    </tr>\n",
              "    <tr>\n",
              "      <th>246</th>\n",
              "      <td>2016-01-04</td>\n",
              "      <td>2.410000</td>\n",
              "      <td>12.530000</td>\n",
              "      <td>11.261538</td>\n",
              "      <td>0.070117</td>\n",
              "      <td>10.210599</td>\n",
              "      <td>41.099998</td>\n",
              "    </tr>\n",
              "    <tr>\n",
              "      <th>494</th>\n",
              "      <td>2016-12-29</td>\n",
              "      <td>4.620000</td>\n",
              "      <td>23.700001</td>\n",
              "      <td>11.923076</td>\n",
              "      <td>0.414726</td>\n",
              "      <td>7.998136</td>\n",
              "      <td>58.240002</td>\n",
              "    </tr>\n",
              "    <tr>\n",
              "      <th>495</th>\n",
              "      <td>2017-01-02</td>\n",
              "      <td>4.510000</td>\n",
              "      <td>23.020000</td>\n",
              "      <td>11.615384</td>\n",
              "      <td>0.397304</td>\n",
              "      <td>7.848421</td>\n",
              "      <td>57.630001</td>\n",
              "    </tr>\n",
              "    <tr>\n",
              "      <th>748</th>\n",
              "      <td>2017-12-29</td>\n",
              "      <td>14.600000</td>\n",
              "      <td>48.500000</td>\n",
              "      <td>18.546152</td>\n",
              "      <td>2.506875</td>\n",
              "      <td>9.944438</td>\n",
              "      <td>73.820000</td>\n",
              "    </tr>\n",
              "    <tr>\n",
              "      <th>749</th>\n",
              "      <td>2018-01-02</td>\n",
              "      <td>15.190000</td>\n",
              "      <td>49.880001</td>\n",
              "      <td>19.246153</td>\n",
              "      <td>2.478125</td>\n",
              "      <td>10.030941</td>\n",
              "      <td>75.099998</td>\n",
              "    </tr>\n",
              "    <tr>\n",
              "      <th>993</th>\n",
              "      <td>2018-12-28</td>\n",
              "      <td>25.100000</td>\n",
              "      <td>61.180000</td>\n",
              "      <td>17.540001</td>\n",
              "      <td>5.658437</td>\n",
              "      <td>9.032837</td>\n",
              "      <td>84.599998</td>\n",
              "    </tr>\n",
              "    <tr>\n",
              "      <th>994</th>\n",
              "      <td>2019-01-02</td>\n",
              "      <td>25.450001</td>\n",
              "      <td>61.099998</td>\n",
              "      <td>17.980000</td>\n",
              "      <td>5.812187</td>\n",
              "      <td>9.531889</td>\n",
              "      <td>87.900002</td>\n",
              "    </tr>\n",
              "    <tr>\n",
              "      <th>1240</th>\n",
              "      <td>2019-12-30</td>\n",
              "      <td>36.799999</td>\n",
              "      <td>43.799999</td>\n",
              "      <td>34.660000</td>\n",
              "      <td>11.925000</td>\n",
              "      <td>21.516666</td>\n",
              "      <td>111.230003</td>\n",
              "    </tr>\n",
              "    <tr>\n",
              "      <th>1241</th>\n",
              "      <td>2020-01-02</td>\n",
              "      <td>37.169998</td>\n",
              "      <td>44.709999</td>\n",
              "      <td>35.240002</td>\n",
              "      <td>12.332500</td>\n",
              "      <td>23.049999</td>\n",
              "      <td>114.239998</td>\n",
              "    </tr>\n",
              "    <tr>\n",
              "      <th>1483</th>\n",
              "      <td>2020-12-30</td>\n",
              "      <td>24.940001</td>\n",
              "      <td>20.580000</td>\n",
              "      <td>75.739998</td>\n",
              "      <td>24.950001</td>\n",
              "      <td>28.719999</td>\n",
              "      <td>114.949997</td>\n",
              "    </tr>\n",
              "  </tbody>\n",
              "</table>\n",
              "</div>"
            ],
            "text/plain": [
              "           Date        GOL        CVC  ...       MGLU       TOTS        BOVA\n",
              "0    2015-01-02  14.990000  15.200000  ...   0.232812  11.910702   47.259998\n",
              "245  2015-12-30   2.520000  13.500000  ...   0.068945  10.323718   42.130001\n",
              "246  2016-01-04   2.410000  12.530000  ...   0.070117  10.210599   41.099998\n",
              "494  2016-12-29   4.620000  23.700001  ...   0.414726   7.998136   58.240002\n",
              "495  2017-01-02   4.510000  23.020000  ...   0.397304   7.848421   57.630001\n",
              "748  2017-12-29  14.600000  48.500000  ...   2.506875   9.944438   73.820000\n",
              "749  2018-01-02  15.190000  49.880001  ...   2.478125  10.030941   75.099998\n",
              "993  2018-12-28  25.100000  61.180000  ...   5.658437   9.032837   84.599998\n",
              "994  2019-01-02  25.450001  61.099998  ...   5.812187   9.531889   87.900002\n",
              "1240 2019-12-30  36.799999  43.799999  ...  11.925000  21.516666  111.230003\n",
              "1241 2020-01-02  37.169998  44.709999  ...  12.332500  23.049999  114.239998\n",
              "1483 2020-12-30  24.940001  20.580000  ...  24.950001  28.719999  114.949997\n",
              "\n",
              "[12 rows x 7 columns]"
            ]
          },
          "metadata": {
            "tags": []
          },
          "execution_count": 5
        }
      ]
    },
    {
      "cell_type": "code",
      "metadata": {
        "colab": {
          "base_uri": "https://localhost:8080/",
          "height": 227
        },
        "id": "heMeZlU-Vd4X",
        "outputId": "aacf44c6-ab80-4f1d-fb31-69eeb972cc77"
      },
      "source": [
        "dfYearlyRL = pd.DataFrame(dctYearlyRL).apply(lambda x: [y[1] for y in x])\r\n",
        "dfYearlyRL.index = actions\r\n",
        "dfYearlyRL"
      ],
      "execution_count": null,
      "outputs": [
        {
          "output_type": "execute_result",
          "data": {
            "text/html": [
              "<div>\n",
              "<style scoped>\n",
              "    .dataframe tbody tr th:only-of-type {\n",
              "        vertical-align: middle;\n",
              "    }\n",
              "\n",
              "    .dataframe tbody tr th {\n",
              "        vertical-align: top;\n",
              "    }\n",
              "\n",
              "    .dataframe thead th {\n",
              "        text-align: right;\n",
              "    }\n",
              "</style>\n",
              "<table border=\"1\" class=\"dataframe\">\n",
              "  <thead>\n",
              "    <tr style=\"text-align: right;\">\n",
              "      <th></th>\n",
              "      <th>2015</th>\n",
              "      <th>2016</th>\n",
              "      <th>2017</th>\n",
              "      <th>2018</th>\n",
              "      <th>2019</th>\n",
              "      <th>2020</th>\n",
              "    </tr>\n",
              "  </thead>\n",
              "  <tbody>\n",
              "    <tr>\n",
              "      <th>GOL</th>\n",
              "      <td>-1.783124</td>\n",
              "      <td>0.650768</td>\n",
              "      <td>1.174724</td>\n",
              "      <td>0.502231</td>\n",
              "      <td>0.368782</td>\n",
              "      <td>-0.399029</td>\n",
              "    </tr>\n",
              "    <tr>\n",
              "      <th>CVC</th>\n",
              "      <td>-0.118606</td>\n",
              "      <td>0.637349</td>\n",
              "      <td>0.745200</td>\n",
              "      <td>0.204200</td>\n",
              "      <td>-0.332878</td>\n",
              "      <td>-0.775877</td>\n",
              "    </tr>\n",
              "    <tr>\n",
              "      <th>WEGE</th>\n",
              "      <td>-0.029656</td>\n",
              "      <td>0.057082</td>\n",
              "      <td>0.467932</td>\n",
              "      <td>-0.092827</td>\n",
              "      <td>0.656326</td>\n",
              "      <td>0.765125</td>\n",
              "    </tr>\n",
              "    <tr>\n",
              "      <th>MGLU</th>\n",
              "      <td>-1.216922</td>\n",
              "      <td>1.777453</td>\n",
              "      <td>1.842091</td>\n",
              "      <td>0.825645</td>\n",
              "      <td>0.718680</td>\n",
              "      <td>0.704636</td>\n",
              "    </tr>\n",
              "    <tr>\n",
              "      <th>TOTS</th>\n",
              "      <td>-0.142993</td>\n",
              "      <td>-0.244218</td>\n",
              "      <td>0.236701</td>\n",
              "      <td>-0.104808</td>\n",
              "      <td>0.814185</td>\n",
              "      <td>0.219928</td>\n",
              "    </tr>\n",
              "    <tr>\n",
              "      <th>BOVA</th>\n",
              "      <td>-0.114904</td>\n",
              "      <td>0.348564</td>\n",
              "      <td>0.247586</td>\n",
              "      <td>0.119114</td>\n",
              "      <td>0.235400</td>\n",
              "      <td>0.006196</td>\n",
              "    </tr>\n",
              "  </tbody>\n",
              "</table>\n",
              "</div>"
            ],
            "text/plain": [
              "          2015      2016      2017      2018      2019      2020\n",
              "GOL  -1.783124  0.650768  1.174724  0.502231  0.368782 -0.399029\n",
              "CVC  -0.118606  0.637349  0.745200  0.204200 -0.332878 -0.775877\n",
              "WEGE -0.029656  0.057082  0.467932 -0.092827  0.656326  0.765125\n",
              "MGLU -1.216922  1.777453  1.842091  0.825645  0.718680  0.704636\n",
              "TOTS -0.142993 -0.244218  0.236701 -0.104808  0.814185  0.219928\n",
              "BOVA -0.114904  0.348564  0.247586  0.119114  0.235400  0.006196"
            ]
          },
          "metadata": {
            "tags": []
          },
          "execution_count": 6
        }
      ]
    },
    {
      "cell_type": "markdown",
      "metadata": {
        "id": "RTnlua_dJVX1"
      },
      "source": [
        "## Variância, desvio padrão, coeficiente de variação"
      ]
    },
    {
      "cell_type": "markdown",
      "metadata": {
        "id": "x5iTyFtKfvYy"
      },
      "source": [
        "$$ \\textrm{coefVariacao} = \\frac{\\sigma}{\\mu} $$"
      ]
    },
    {
      "cell_type": "code",
      "metadata": {
        "colab": {
          "base_uri": "https://localhost:8080/"
        },
        "id": "gjzKH_sabO3U",
        "outputId": "87dcf3c2-e799-4827-a706-fb934e74690d"
      },
      "source": [
        "dfYearlyRL.mean(axis=1)"
      ],
      "execution_count": null,
      "outputs": [
        {
          "output_type": "execute_result",
          "data": {
            "text/plain": [
              "GOL     0.085725\n",
              "CVC     0.059898\n",
              "WEGE    0.303997\n",
              "MGLU    0.775264\n",
              "TOTS    0.129799\n",
              "BOVA    0.140326\n",
              "dtype: float64"
            ]
          },
          "metadata": {
            "tags": []
          },
          "execution_count": 7
        }
      ]
    },
    {
      "cell_type": "code",
      "metadata": {
        "colab": {
          "base_uri": "https://localhost:8080/"
        },
        "id": "XwhX0CQybScC",
        "outputId": "672bff49-4e22-4e63-a5de-fffba44f16cb"
      },
      "source": [
        "dfYearlyRL.var(axis=1,ddof=0)"
      ],
      "execution_count": null,
      "outputs": [
        {
          "output_type": "execute_result",
          "data": {
            "text/plain": [
              "GOL     0.914396\n",
              "CVC     0.284762\n",
              "WEGE    0.115568\n",
              "MGLU    1.020339\n",
              "TOTS    0.126213\n",
              "BOVA    0.024582\n",
              "dtype: float64"
            ]
          },
          "metadata": {
            "tags": []
          },
          "execution_count": 8
        }
      ]
    },
    {
      "cell_type": "code",
      "metadata": {
        "colab": {
          "base_uri": "https://localhost:8080/"
        },
        "id": "nyt1A39bdXV5",
        "outputId": "9650f766-e762-467c-ba4e-580c1a5b9748"
      },
      "source": [
        "dfYearlyRL.std(axis=1,ddof=0)"
      ],
      "execution_count": null,
      "outputs": [
        {
          "output_type": "execute_result",
          "data": {
            "text/plain": [
              "GOL     0.956241\n",
              "CVC     0.533631\n",
              "WEGE    0.339953\n",
              "MGLU    1.010118\n",
              "TOTS    0.355265\n",
              "BOVA    0.156786\n",
              "dtype: float64"
            ]
          },
          "metadata": {
            "tags": []
          },
          "execution_count": 9
        }
      ]
    },
    {
      "cell_type": "code",
      "metadata": {
        "id": "U0G1E5cekWqa"
      },
      "source": [
        "taxas_cvc = np.array([-11.86, 63.73, 74.52, 20.42, -33.29, -77.5877])\r\n",
        "assert taxas_cvc.mean() == (taxas_cvc.sum() / len(taxas_cvc))\r\n",
        "assert taxas_cvc.var() == ((taxas_cvc - taxas_cvc.mean()) ** 2).sum() / len(taxas_cvc)\r\n",
        "assert taxas_cvc.std() == np.sqrt(((taxas_cvc - taxas_cvc.mean()) ** 2).sum() / len(taxas_cvc))\r\n",
        "# test = np.array([1, 2, 3, 4, 5, 6])\r\n",
        "test = dfYearlyRL.iloc[0,:].values\r\n",
        "assert stats.variation(test) == test.std()/test.mean()\r\n",
        "assert stats.variation(dfYearlyRL.iloc[0,:]) == dfYearlyRL.std(axis=1, ddof=0)[0]/dfYearlyRL.mean(axis=1)[0]\r\n",
        "# stats.variation(test)"
      ],
      "execution_count": null,
      "outputs": []
    },
    {
      "cell_type": "markdown",
      "metadata": {
        "id": "YCcRZplS1EGk"
      },
      "source": [
        "Indicadores com série histórica dos $n$ últimos dias"
      ]
    },
    {
      "cell_type": "code",
      "metadata": {
        "colab": {
          "base_uri": "https://localhost:8080/",
          "height": 367
        },
        "id": "1g5lZxHwd5x1",
        "outputId": "29d77976-d814-4a42-c79c-4be5ce14d986"
      },
      "source": [
        "dfLastDays_mean = pd.DataFrame()\r\n",
        "dfLastDays_std = pd.DataFrame()\r\n",
        "dfLastDays_coefVariation = pd.DataFrame()\r\n",
        "lastDays = [5,10,25,75,125,250,500,750,1250]\r\n",
        "for lastDay in lastDays:\r\n",
        "    dfLastDays_mean[str(lastDay)] = dataset.iloc[:,1:].tail(lastDay).mean()\r\n",
        "    dfLastDays_std[str(lastDay)] = dataset.iloc[:,1:].tail(lastDay).std(ddof=0)\r\n",
        "    dfLastDays_coefVariation[str(lastDay)] = dataset.iloc[:,1:].tail(lastDay).std(ddof=0) / dataset.iloc[:,1:].tail(lastDay).mean()\r\n",
        "\r\n",
        "\r\n",
        "dfLastDays_mean = dfLastDays_mean.T.add_suffix('_mean')\r\n",
        "dfLastDays_std = dfLastDays_std.T.add_suffix('_std')\r\n",
        "dfLastDays_coefVariation = dfLastDays_coefVariation.T.add_suffix('_coefVariation')\r\n",
        "\r\n",
        "dfLastDays = pd.concat([dfLastDays_mean,dfLastDays_std,dfLastDays_coefVariation],axis=1)\r\n",
        "dfLastDays.index.name = 'lastDays'\r\n",
        "dfLastDays"
      ],
      "execution_count": null,
      "outputs": [
        {
          "output_type": "execute_result",
          "data": {
            "text/html": [
              "<div>\n",
              "<style scoped>\n",
              "    .dataframe tbody tr th:only-of-type {\n",
              "        vertical-align: middle;\n",
              "    }\n",
              "\n",
              "    .dataframe tbody tr th {\n",
              "        vertical-align: top;\n",
              "    }\n",
              "\n",
              "    .dataframe thead th {\n",
              "        text-align: right;\n",
              "    }\n",
              "</style>\n",
              "<table border=\"1\" class=\"dataframe\">\n",
              "  <thead>\n",
              "    <tr style=\"text-align: right;\">\n",
              "      <th></th>\n",
              "      <th>GOL_mean</th>\n",
              "      <th>CVC_mean</th>\n",
              "      <th>WEGE_mean</th>\n",
              "      <th>MGLU_mean</th>\n",
              "      <th>TOTS_mean</th>\n",
              "      <th>BOVA_mean</th>\n",
              "      <th>GOL_std</th>\n",
              "      <th>CVC_std</th>\n",
              "      <th>WEGE_std</th>\n",
              "      <th>MGLU_std</th>\n",
              "      <th>TOTS_std</th>\n",
              "      <th>BOVA_std</th>\n",
              "      <th>GOL_coefVariation</th>\n",
              "      <th>CVC_coefVariation</th>\n",
              "      <th>WEGE_coefVariation</th>\n",
              "      <th>MGLU_coefVariation</th>\n",
              "      <th>TOTS_coefVariation</th>\n",
              "      <th>BOVA_coefVariation</th>\n",
              "    </tr>\n",
              "    <tr>\n",
              "      <th>lastDays</th>\n",
              "      <th></th>\n",
              "      <th></th>\n",
              "      <th></th>\n",
              "      <th></th>\n",
              "      <th></th>\n",
              "      <th></th>\n",
              "      <th></th>\n",
              "      <th></th>\n",
              "      <th></th>\n",
              "      <th></th>\n",
              "      <th></th>\n",
              "      <th></th>\n",
              "      <th></th>\n",
              "      <th></th>\n",
              "      <th></th>\n",
              "      <th></th>\n",
              "      <th></th>\n",
              "      <th></th>\n",
              "    </tr>\n",
              "  </thead>\n",
              "  <tbody>\n",
              "    <tr>\n",
              "      <th>5</th>\n",
              "      <td>23.294000</td>\n",
              "      <td>18.418000</td>\n",
              "      <td>87.992000</td>\n",
              "      <td>25.858000</td>\n",
              "      <td>29.404000</td>\n",
              "      <td>112.718001</td>\n",
              "      <td>0.871358</td>\n",
              "      <td>0.656548</td>\n",
              "      <td>1.009445</td>\n",
              "      <td>0.217016</td>\n",
              "      <td>0.665030</td>\n",
              "      <td>1.132987</td>\n",
              "      <td>0.037407</td>\n",
              "      <td>0.035647</td>\n",
              "      <td>0.011472</td>\n",
              "      <td>0.008393</td>\n",
              "      <td>0.022617</td>\n",
              "      <td>0.010052</td>\n",
              "    </tr>\n",
              "    <tr>\n",
              "      <th>10</th>\n",
              "      <td>23.301000</td>\n",
              "      <td>19.096000</td>\n",
              "      <td>88.584000</td>\n",
              "      <td>25.259000</td>\n",
              "      <td>29.327000</td>\n",
              "      <td>114.121695</td>\n",
              "      <td>0.662201</td>\n",
              "      <td>0.847068</td>\n",
              "      <td>1.505312</td>\n",
              "      <td>0.781696</td>\n",
              "      <td>0.637496</td>\n",
              "      <td>1.699685</td>\n",
              "      <td>0.028419</td>\n",
              "      <td>0.044358</td>\n",
              "      <td>0.016993</td>\n",
              "      <td>0.030947</td>\n",
              "      <td>0.021738</td>\n",
              "      <td>0.014894</td>\n",
              "    </tr>\n",
              "    <tr>\n",
              "      <th>25</th>\n",
              "      <td>23.655600</td>\n",
              "      <td>19.456800</td>\n",
              "      <td>83.859600</td>\n",
              "      <td>24.762400</td>\n",
              "      <td>28.424800</td>\n",
              "      <td>115.285478</td>\n",
              "      <td>0.658624</td>\n",
              "      <td>0.750854</td>\n",
              "      <td>6.697563</td>\n",
              "      <td>0.854018</td>\n",
              "      <td>1.000516</td>\n",
              "      <td>2.468547</td>\n",
              "      <td>0.027842</td>\n",
              "      <td>0.038591</td>\n",
              "      <td>0.079866</td>\n",
              "      <td>0.034488</td>\n",
              "      <td>0.035199</td>\n",
              "      <td>0.021412</td>\n",
              "    </tr>\n",
              "    <tr>\n",
              "      <th>75</th>\n",
              "      <td>22.294533</td>\n",
              "      <td>17.541067</td>\n",
              "      <td>79.773067</td>\n",
              "      <td>24.740733</td>\n",
              "      <td>27.793200</td>\n",
              "      <td>106.017026</td>\n",
              "      <td>3.160507</td>\n",
              "      <td>2.807131</td>\n",
              "      <td>5.973391</td>\n",
              "      <td>1.095954</td>\n",
              "      <td>1.264420</td>\n",
              "      <td>8.722458</td>\n",
              "      <td>0.141762</td>\n",
              "      <td>0.160032</td>\n",
              "      <td>0.074880</td>\n",
              "      <td>0.044298</td>\n",
              "      <td>0.045494</td>\n",
              "      <td>0.082274</td>\n",
              "    </tr>\n",
              "    <tr>\n",
              "      <th>125</th>\n",
              "      <td>20.811360</td>\n",
              "      <td>17.884800</td>\n",
              "      <td>74.300480</td>\n",
              "      <td>23.549060</td>\n",
              "      <td>27.756240</td>\n",
              "      <td>102.217576</td>\n",
              "      <td>3.131719</td>\n",
              "      <td>2.459382</td>\n",
              "      <td>8.266560</td>\n",
              "      <td>1.808875</td>\n",
              "      <td>1.158294</td>\n",
              "      <td>8.398873</td>\n",
              "      <td>0.150481</td>\n",
              "      <td>0.137512</td>\n",
              "      <td>0.111259</td>\n",
              "      <td>0.076813</td>\n",
              "      <td>0.041731</td>\n",
              "      <td>0.082167</td>\n",
              "    </tr>\n",
              "    <tr>\n",
              "      <th>250</th>\n",
              "      <td>20.014040</td>\n",
              "      <td>18.936335</td>\n",
              "      <td>58.467240</td>\n",
              "      <td>18.799540</td>\n",
              "      <td>24.589853</td>\n",
              "      <td>95.667388</td>\n",
              "      <td>7.076986</td>\n",
              "      <td>6.756763</td>\n",
              "      <td>17.688239</td>\n",
              "      <td>5.445667</td>\n",
              "      <td>4.135205</td>\n",
              "      <td>13.683089</td>\n",
              "      <td>0.353601</td>\n",
              "      <td>0.356815</td>\n",
              "      <td>0.302532</td>\n",
              "      <td>0.289670</td>\n",
              "      <td>0.168167</td>\n",
              "      <td>0.143028</td>\n",
              "    </tr>\n",
              "    <tr>\n",
              "      <th>500</th>\n",
              "      <td>25.749440</td>\n",
              "      <td>35.305888</td>\n",
              "      <td>40.780540</td>\n",
              "      <td>13.414510</td>\n",
              "      <td>20.512171</td>\n",
              "      <td>96.840874</td>\n",
              "      <td>8.546550</td>\n",
              "      <td>17.552115</td>\n",
              "      <td>21.951865</td>\n",
              "      <td>6.857907</td>\n",
              "      <td>5.681478</td>\n",
              "      <td>10.701665</td>\n",
              "      <td>0.331912</td>\n",
              "      <td>0.497144</td>\n",
              "      <td>0.538293</td>\n",
              "      <td>0.511231</td>\n",
              "      <td>0.276981</td>\n",
              "      <td>0.110508</td>\n",
              "    </tr>\n",
              "    <tr>\n",
              "      <th>750</th>\n",
              "      <td>22.671133</td>\n",
              "      <td>40.744085</td>\n",
              "      <td>33.156752</td>\n",
              "      <td>10.227527</td>\n",
              "      <td>16.832549</td>\n",
              "      <td>90.972236</td>\n",
              "      <td>8.609404</td>\n",
              "      <td>16.706466</td>\n",
              "      <td>20.924821</td>\n",
              "      <td>7.208968</td>\n",
              "      <td>6.984950</td>\n",
              "      <td>12.395393</td>\n",
              "      <td>0.379752</td>\n",
              "      <td>0.410034</td>\n",
              "      <td>0.631088</td>\n",
              "      <td>0.704859</td>\n",
              "      <td>0.414967</td>\n",
              "      <td>0.136255</td>\n",
              "    </tr>\n",
              "    <tr>\n",
              "      <th>1250</th>\n",
              "      <td>16.563064</td>\n",
              "      <td>35.680939</td>\n",
              "      <td>25.259054</td>\n",
              "      <td>6.459752</td>\n",
              "      <td>14.017416</td>\n",
              "      <td>78.287598</td>\n",
              "      <td>10.333271</td>\n",
              "      <td>15.540314</td>\n",
              "      <td>18.930335</td>\n",
              "      <td>7.260295</td>\n",
              "      <td>6.439705</td>\n",
              "      <td>19.158888</td>\n",
              "      <td>0.623874</td>\n",
              "      <td>0.435535</td>\n",
              "      <td>0.749448</td>\n",
              "      <td>1.123928</td>\n",
              "      <td>0.459407</td>\n",
              "      <td>0.244724</td>\n",
              "    </tr>\n",
              "  </tbody>\n",
              "</table>\n",
              "</div>"
            ],
            "text/plain": [
              "           GOL_mean   CVC_mean  ...  TOTS_coefVariation  BOVA_coefVariation\n",
              "lastDays                        ...                                        \n",
              "5         23.294000  18.418000  ...            0.022617            0.010052\n",
              "10        23.301000  19.096000  ...            0.021738            0.014894\n",
              "25        23.655600  19.456800  ...            0.035199            0.021412\n",
              "75        22.294533  17.541067  ...            0.045494            0.082274\n",
              "125       20.811360  17.884800  ...            0.041731            0.082167\n",
              "250       20.014040  18.936335  ...            0.168167            0.143028\n",
              "500       25.749440  35.305888  ...            0.276981            0.110508\n",
              "750       22.671133  40.744085  ...            0.414967            0.136255\n",
              "1250      16.563064  35.680939  ...            0.459407            0.244724\n",
              "\n",
              "[9 rows x 18 columns]"
            ]
          },
          "metadata": {
            "tags": []
          },
          "execution_count": 11
        }
      ]
    },
    {
      "cell_type": "code",
      "metadata": {
        "colab": {
          "base_uri": "https://localhost:8080/"
        },
        "id": "C0YfW0G7qXxL",
        "outputId": "b0cf6637-9289-422f-c25e-f011aa2f37e7"
      },
      "source": [
        "dfYearlyRL.std(axis=1, ddof=0)/dfYearlyRL.mean(axis=1)"
      ],
      "execution_count": null,
      "outputs": [
        {
          "output_type": "execute_result",
          "data": {
            "text/plain": [
              "GOL     11.154713\n",
              "CVC      8.908971\n",
              "WEGE     1.118279\n",
              "MGLU     1.302935\n",
              "TOTS     2.737038\n",
              "BOVA     1.117295\n",
              "dtype: float64"
            ]
          },
          "metadata": {
            "tags": []
          },
          "execution_count": 12
        }
      ]
    },
    {
      "cell_type": "markdown",
      "metadata": {
        "id": "whH8oHumdpei"
      },
      "source": [
        "## Cálculos com todas as ações - risco médio anual"
      ]
    },
    {
      "cell_type": "code",
      "metadata": {
        "colab": {
          "base_uri": "https://localhost:8080/",
          "height": 406
        },
        "id": "-xoNpHbrsVYg",
        "outputId": "08392cac-a0c2-4260-be66-fa4e2ea64be5"
      },
      "source": [
        "dataset.drop(columns=['Date'], inplace=True)\n",
        "dataset"
      ],
      "execution_count": null,
      "outputs": [
        {
          "output_type": "execute_result",
          "data": {
            "text/html": [
              "<div>\n",
              "<style scoped>\n",
              "    .dataframe tbody tr th:only-of-type {\n",
              "        vertical-align: middle;\n",
              "    }\n",
              "\n",
              "    .dataframe tbody tr th {\n",
              "        vertical-align: top;\n",
              "    }\n",
              "\n",
              "    .dataframe thead th {\n",
              "        text-align: right;\n",
              "    }\n",
              "</style>\n",
              "<table border=\"1\" class=\"dataframe\">\n",
              "  <thead>\n",
              "    <tr style=\"text-align: right;\">\n",
              "      <th></th>\n",
              "      <th>GOL</th>\n",
              "      <th>CVC</th>\n",
              "      <th>WEGE</th>\n",
              "      <th>MGLU</th>\n",
              "      <th>TOTS</th>\n",
              "      <th>BOVA</th>\n",
              "    </tr>\n",
              "  </thead>\n",
              "  <tbody>\n",
              "    <tr>\n",
              "      <th>0</th>\n",
              "      <td>14.990000</td>\n",
              "      <td>15.200000</td>\n",
              "      <td>11.846153</td>\n",
              "      <td>0.232812</td>\n",
              "      <td>11.910702</td>\n",
              "      <td>47.259998</td>\n",
              "    </tr>\n",
              "    <tr>\n",
              "      <th>1</th>\n",
              "      <td>14.850000</td>\n",
              "      <td>15.000000</td>\n",
              "      <td>11.926923</td>\n",
              "      <td>0.237187</td>\n",
              "      <td>11.544731</td>\n",
              "      <td>46.320000</td>\n",
              "    </tr>\n",
              "    <tr>\n",
              "      <th>2</th>\n",
              "      <td>15.210000</td>\n",
              "      <td>14.800000</td>\n",
              "      <td>11.750000</td>\n",
              "      <td>0.234062</td>\n",
              "      <td>10.822770</td>\n",
              "      <td>46.580002</td>\n",
              "    </tr>\n",
              "    <tr>\n",
              "      <th>3</th>\n",
              "      <td>14.550000</td>\n",
              "      <td>14.670000</td>\n",
              "      <td>11.615384</td>\n",
              "      <td>0.241875</td>\n",
              "      <td>10.746248</td>\n",
              "      <td>48.150002</td>\n",
              "    </tr>\n",
              "    <tr>\n",
              "      <th>4</th>\n",
              "      <td>14.270000</td>\n",
              "      <td>14.150000</td>\n",
              "      <td>11.811538</td>\n",
              "      <td>0.240000</td>\n",
              "      <td>10.995774</td>\n",
              "      <td>48.509998</td>\n",
              "    </tr>\n",
              "    <tr>\n",
              "      <th>...</th>\n",
              "      <td>...</td>\n",
              "      <td>...</td>\n",
              "      <td>...</td>\n",
              "      <td>...</td>\n",
              "      <td>...</td>\n",
              "      <td>...</td>\n",
              "    </tr>\n",
              "    <tr>\n",
              "      <th>1498</th>\n",
              "      <td>22.670000</td>\n",
              "      <td>18.370001</td>\n",
              "      <td>88.260002</td>\n",
              "      <td>26.000000</td>\n",
              "      <td>30.150000</td>\n",
              "      <td>113.180000</td>\n",
              "    </tr>\n",
              "    <tr>\n",
              "      <th>1499</th>\n",
              "      <td>22.209999</td>\n",
              "      <td>17.440001</td>\n",
              "      <td>88.949997</td>\n",
              "      <td>25.750000</td>\n",
              "      <td>30.110001</td>\n",
              "      <td>112.970001</td>\n",
              "    </tr>\n",
              "    <tr>\n",
              "      <th>1500</th>\n",
              "      <td>23.030001</td>\n",
              "      <td>18.020000</td>\n",
              "      <td>88.690002</td>\n",
              "      <td>25.790001</td>\n",
              "      <td>28.740000</td>\n",
              "      <td>112.970001</td>\n",
              "    </tr>\n",
              "    <tr>\n",
              "      <th>1501</th>\n",
              "      <td>24.610001</td>\n",
              "      <td>19.240000</td>\n",
              "      <td>87.970001</td>\n",
              "      <td>26.190001</td>\n",
              "      <td>29.459999</td>\n",
              "      <td>113.910004</td>\n",
              "    </tr>\n",
              "    <tr>\n",
              "      <th>1502</th>\n",
              "      <td>23.950001</td>\n",
              "      <td>19.020000</td>\n",
              "      <td>86.089996</td>\n",
              "      <td>25.559999</td>\n",
              "      <td>28.559999</td>\n",
              "      <td>110.559998</td>\n",
              "    </tr>\n",
              "  </tbody>\n",
              "</table>\n",
              "<p>1503 rows × 6 columns</p>\n",
              "</div>"
            ],
            "text/plain": [
              "            GOL        CVC       WEGE       MGLU       TOTS        BOVA\n",
              "0     14.990000  15.200000  11.846153   0.232812  11.910702   47.259998\n",
              "1     14.850000  15.000000  11.926923   0.237187  11.544731   46.320000\n",
              "2     15.210000  14.800000  11.750000   0.234062  10.822770   46.580002\n",
              "3     14.550000  14.670000  11.615384   0.241875  10.746248   48.150002\n",
              "4     14.270000  14.150000  11.811538   0.240000  10.995774   48.509998\n",
              "...         ...        ...        ...        ...        ...         ...\n",
              "1498  22.670000  18.370001  88.260002  26.000000  30.150000  113.180000\n",
              "1499  22.209999  17.440001  88.949997  25.750000  30.110001  112.970001\n",
              "1500  23.030001  18.020000  88.690002  25.790001  28.740000  112.970001\n",
              "1501  24.610001  19.240000  87.970001  26.190001  29.459999  113.910004\n",
              "1502  23.950001  19.020000  86.089996  25.559999  28.559999  110.559998\n",
              "\n",
              "[1503 rows x 6 columns]"
            ]
          },
          "metadata": {
            "tags": []
          },
          "execution_count": 13
        }
      ]
    },
    {
      "cell_type": "code",
      "metadata": {
        "colab": {
          "base_uri": "https://localhost:8080/",
          "height": 406
        },
        "id": "ltZbzHMmsuYL",
        "outputId": "f20e807e-c568-47c6-f38a-dd5b517a6625"
      },
      "source": [
        "taxas_retorno = (dataset / dataset.shift(1)) - 1\n",
        "taxas_retorno"
      ],
      "execution_count": null,
      "outputs": [
        {
          "output_type": "execute_result",
          "data": {
            "text/html": [
              "<div>\n",
              "<style scoped>\n",
              "    .dataframe tbody tr th:only-of-type {\n",
              "        vertical-align: middle;\n",
              "    }\n",
              "\n",
              "    .dataframe tbody tr th {\n",
              "        vertical-align: top;\n",
              "    }\n",
              "\n",
              "    .dataframe thead th {\n",
              "        text-align: right;\n",
              "    }\n",
              "</style>\n",
              "<table border=\"1\" class=\"dataframe\">\n",
              "  <thead>\n",
              "    <tr style=\"text-align: right;\">\n",
              "      <th></th>\n",
              "      <th>GOL</th>\n",
              "      <th>CVC</th>\n",
              "      <th>WEGE</th>\n",
              "      <th>MGLU</th>\n",
              "      <th>TOTS</th>\n",
              "      <th>BOVA</th>\n",
              "    </tr>\n",
              "  </thead>\n",
              "  <tbody>\n",
              "    <tr>\n",
              "      <th>0</th>\n",
              "      <td>NaN</td>\n",
              "      <td>NaN</td>\n",
              "      <td>NaN</td>\n",
              "      <td>NaN</td>\n",
              "      <td>NaN</td>\n",
              "      <td>NaN</td>\n",
              "    </tr>\n",
              "    <tr>\n",
              "      <th>1</th>\n",
              "      <td>-0.009340</td>\n",
              "      <td>-0.013158</td>\n",
              "      <td>0.006818</td>\n",
              "      <td>0.018792</td>\n",
              "      <td>-0.030726</td>\n",
              "      <td>-0.019890</td>\n",
              "    </tr>\n",
              "    <tr>\n",
              "      <th>2</th>\n",
              "      <td>0.024242</td>\n",
              "      <td>-0.013333</td>\n",
              "      <td>-0.014834</td>\n",
              "      <td>-0.013175</td>\n",
              "      <td>-0.062536</td>\n",
              "      <td>0.005613</td>\n",
              "    </tr>\n",
              "    <tr>\n",
              "      <th>3</th>\n",
              "      <td>-0.043392</td>\n",
              "      <td>-0.008784</td>\n",
              "      <td>-0.011457</td>\n",
              "      <td>0.033380</td>\n",
              "      <td>-0.007070</td>\n",
              "      <td>0.033705</td>\n",
              "    </tr>\n",
              "    <tr>\n",
              "      <th>4</th>\n",
              "      <td>-0.019244</td>\n",
              "      <td>-0.035447</td>\n",
              "      <td>0.016887</td>\n",
              "      <td>-0.007752</td>\n",
              "      <td>0.023220</td>\n",
              "      <td>0.007477</td>\n",
              "    </tr>\n",
              "    <tr>\n",
              "      <th>...</th>\n",
              "      <td>...</td>\n",
              "      <td>...</td>\n",
              "      <td>...</td>\n",
              "      <td>...</td>\n",
              "      <td>...</td>\n",
              "      <td>...</td>\n",
              "    </tr>\n",
              "    <tr>\n",
              "      <th>1498</th>\n",
              "      <td>-0.003954</td>\n",
              "      <td>-0.046210</td>\n",
              "      <td>0.006960</td>\n",
              "      <td>0.020008</td>\n",
              "      <td>0.013445</td>\n",
              "      <td>-0.011183</td>\n",
              "    </tr>\n",
              "    <tr>\n",
              "      <th>1499</th>\n",
              "      <td>-0.020291</td>\n",
              "      <td>-0.050626</td>\n",
              "      <td>0.007818</td>\n",
              "      <td>-0.009615</td>\n",
              "      <td>-0.001327</td>\n",
              "      <td>-0.001855</td>\n",
              "    </tr>\n",
              "    <tr>\n",
              "      <th>1500</th>\n",
              "      <td>0.036920</td>\n",
              "      <td>0.033257</td>\n",
              "      <td>-0.002923</td>\n",
              "      <td>0.001553</td>\n",
              "      <td>-0.045500</td>\n",
              "      <td>0.000000</td>\n",
              "    </tr>\n",
              "    <tr>\n",
              "      <th>1501</th>\n",
              "      <td>0.068606</td>\n",
              "      <td>0.067703</td>\n",
              "      <td>-0.008118</td>\n",
              "      <td>0.015510</td>\n",
              "      <td>0.025052</td>\n",
              "      <td>0.008321</td>\n",
              "    </tr>\n",
              "    <tr>\n",
              "      <th>1502</th>\n",
              "      <td>-0.026818</td>\n",
              "      <td>-0.011434</td>\n",
              "      <td>-0.021371</td>\n",
              "      <td>-0.024055</td>\n",
              "      <td>-0.030550</td>\n",
              "      <td>-0.029409</td>\n",
              "    </tr>\n",
              "  </tbody>\n",
              "</table>\n",
              "<p>1503 rows × 6 columns</p>\n",
              "</div>"
            ],
            "text/plain": [
              "           GOL       CVC      WEGE      MGLU      TOTS      BOVA\n",
              "0          NaN       NaN       NaN       NaN       NaN       NaN\n",
              "1    -0.009340 -0.013158  0.006818  0.018792 -0.030726 -0.019890\n",
              "2     0.024242 -0.013333 -0.014834 -0.013175 -0.062536  0.005613\n",
              "3    -0.043392 -0.008784 -0.011457  0.033380 -0.007070  0.033705\n",
              "4    -0.019244 -0.035447  0.016887 -0.007752  0.023220  0.007477\n",
              "...        ...       ...       ...       ...       ...       ...\n",
              "1498 -0.003954 -0.046210  0.006960  0.020008  0.013445 -0.011183\n",
              "1499 -0.020291 -0.050626  0.007818 -0.009615 -0.001327 -0.001855\n",
              "1500  0.036920  0.033257 -0.002923  0.001553 -0.045500  0.000000\n",
              "1501  0.068606  0.067703 -0.008118  0.015510  0.025052  0.008321\n",
              "1502 -0.026818 -0.011434 -0.021371 -0.024055 -0.030550 -0.029409\n",
              "\n",
              "[1503 rows x 6 columns]"
            ]
          },
          "metadata": {
            "tags": []
          },
          "execution_count": 14
        }
      ]
    },
    {
      "cell_type": "code",
      "metadata": {
        "colab": {
          "base_uri": "https://localhost:8080/"
        },
        "id": "vC7pN4JJtNcS",
        "outputId": "3fbd7fcb-11f8-4aa2-c39c-9517716096cc"
      },
      "source": [
        "taxas_retorno.std(ddof=0) * 100"
      ],
      "execution_count": null,
      "outputs": [
        {
          "output_type": "execute_result",
          "data": {
            "text/plain": [
              "GOL     5.127450\n",
              "CVC     3.480398\n",
              "WEGE    2.228642\n",
              "MGLU    4.167106\n",
              "TOTS    2.439113\n",
              "BOVA    1.714883\n",
              "dtype: float64"
            ]
          },
          "metadata": {
            "tags": []
          },
          "execution_count": 15
        }
      ]
    },
    {
      "cell_type": "code",
      "metadata": {
        "colab": {
          "base_uri": "https://localhost:8080/"
        },
        "id": "BZ35FuAzt4DO",
        "outputId": "d62fef9b-4ff0-49d2-ae60-2ee414f45a22"
      },
      "source": [
        "taxas_retorno.std(ddof=0) * days_bolsa"
      ],
      "execution_count": null,
      "outputs": [
        {
          "output_type": "execute_result",
          "data": {
            "text/plain": [
              "GOL     12.613526\n",
              "CVC      8.561779\n",
              "WEGE     5.482459\n",
              "MGLU    10.251082\n",
              "TOTS     6.000217\n",
              "BOVA     4.218611\n",
              "dtype: float64"
            ]
          },
          "metadata": {
            "tags": []
          },
          "execution_count": 16
        }
      ]
    },
    {
      "cell_type": "code",
      "metadata": {
        "colab": {
          "base_uri": "https://localhost:8080/"
        },
        "id": "6XdhwPG6uZER",
        "outputId": "15622024-336e-4828-fcc0-44a3fb70b2c7"
      },
      "source": [
        "taxas_retorno.std() * np.sqrt(days_bolsa)  # Anualizar"
      ],
      "execution_count": null,
      "outputs": [
        {
          "output_type": "execute_result",
          "data": {
            "text/plain": [
              "GOL     0.804477\n",
              "CVC     0.546061\n",
              "WEGE    0.349665\n",
              "MGLU    0.653803\n",
              "TOTS    0.382687\n",
              "BOVA    0.269058\n",
              "dtype: float64"
            ]
          },
          "metadata": {
            "tags": []
          },
          "execution_count": 17
        }
      ]
    },
    {
      "cell_type": "markdown",
      "metadata": {
        "id": "t5-77djrvtGz"
      },
      "source": [
        "## Correlação entre taxas de retorno de ações"
      ]
    },
    {
      "cell_type": "code",
      "metadata": {
        "colab": {
          "base_uri": "https://localhost:8080/",
          "height": 406
        },
        "id": "UwMtgThGwg6Q",
        "outputId": "7fec0aba-e8f7-40f3-e7e5-588ae5e7a1a0"
      },
      "source": [
        "dataset"
      ],
      "execution_count": null,
      "outputs": [
        {
          "output_type": "execute_result",
          "data": {
            "text/html": [
              "<div>\n",
              "<style scoped>\n",
              "    .dataframe tbody tr th:only-of-type {\n",
              "        vertical-align: middle;\n",
              "    }\n",
              "\n",
              "    .dataframe tbody tr th {\n",
              "        vertical-align: top;\n",
              "    }\n",
              "\n",
              "    .dataframe thead th {\n",
              "        text-align: right;\n",
              "    }\n",
              "</style>\n",
              "<table border=\"1\" class=\"dataframe\">\n",
              "  <thead>\n",
              "    <tr style=\"text-align: right;\">\n",
              "      <th></th>\n",
              "      <th>GOL</th>\n",
              "      <th>CVC</th>\n",
              "      <th>WEGE</th>\n",
              "      <th>MGLU</th>\n",
              "      <th>TOTS</th>\n",
              "      <th>BOVA</th>\n",
              "    </tr>\n",
              "  </thead>\n",
              "  <tbody>\n",
              "    <tr>\n",
              "      <th>0</th>\n",
              "      <td>14.990000</td>\n",
              "      <td>15.200000</td>\n",
              "      <td>11.846153</td>\n",
              "      <td>0.232812</td>\n",
              "      <td>11.910702</td>\n",
              "      <td>47.259998</td>\n",
              "    </tr>\n",
              "    <tr>\n",
              "      <th>1</th>\n",
              "      <td>14.850000</td>\n",
              "      <td>15.000000</td>\n",
              "      <td>11.926923</td>\n",
              "      <td>0.237187</td>\n",
              "      <td>11.544731</td>\n",
              "      <td>46.320000</td>\n",
              "    </tr>\n",
              "    <tr>\n",
              "      <th>2</th>\n",
              "      <td>15.210000</td>\n",
              "      <td>14.800000</td>\n",
              "      <td>11.750000</td>\n",
              "      <td>0.234062</td>\n",
              "      <td>10.822770</td>\n",
              "      <td>46.580002</td>\n",
              "    </tr>\n",
              "    <tr>\n",
              "      <th>3</th>\n",
              "      <td>14.550000</td>\n",
              "      <td>14.670000</td>\n",
              "      <td>11.615384</td>\n",
              "      <td>0.241875</td>\n",
              "      <td>10.746248</td>\n",
              "      <td>48.150002</td>\n",
              "    </tr>\n",
              "    <tr>\n",
              "      <th>4</th>\n",
              "      <td>14.270000</td>\n",
              "      <td>14.150000</td>\n",
              "      <td>11.811538</td>\n",
              "      <td>0.240000</td>\n",
              "      <td>10.995774</td>\n",
              "      <td>48.509998</td>\n",
              "    </tr>\n",
              "    <tr>\n",
              "      <th>...</th>\n",
              "      <td>...</td>\n",
              "      <td>...</td>\n",
              "      <td>...</td>\n",
              "      <td>...</td>\n",
              "      <td>...</td>\n",
              "      <td>...</td>\n",
              "    </tr>\n",
              "    <tr>\n",
              "      <th>1498</th>\n",
              "      <td>22.670000</td>\n",
              "      <td>18.370001</td>\n",
              "      <td>88.260002</td>\n",
              "      <td>26.000000</td>\n",
              "      <td>30.150000</td>\n",
              "      <td>113.180000</td>\n",
              "    </tr>\n",
              "    <tr>\n",
              "      <th>1499</th>\n",
              "      <td>22.209999</td>\n",
              "      <td>17.440001</td>\n",
              "      <td>88.949997</td>\n",
              "      <td>25.750000</td>\n",
              "      <td>30.110001</td>\n",
              "      <td>112.970001</td>\n",
              "    </tr>\n",
              "    <tr>\n",
              "      <th>1500</th>\n",
              "      <td>23.030001</td>\n",
              "      <td>18.020000</td>\n",
              "      <td>88.690002</td>\n",
              "      <td>25.790001</td>\n",
              "      <td>28.740000</td>\n",
              "      <td>112.970001</td>\n",
              "    </tr>\n",
              "    <tr>\n",
              "      <th>1501</th>\n",
              "      <td>24.610001</td>\n",
              "      <td>19.240000</td>\n",
              "      <td>87.970001</td>\n",
              "      <td>26.190001</td>\n",
              "      <td>29.459999</td>\n",
              "      <td>113.910004</td>\n",
              "    </tr>\n",
              "    <tr>\n",
              "      <th>1502</th>\n",
              "      <td>23.950001</td>\n",
              "      <td>19.020000</td>\n",
              "      <td>86.089996</td>\n",
              "      <td>25.559999</td>\n",
              "      <td>28.559999</td>\n",
              "      <td>110.559998</td>\n",
              "    </tr>\n",
              "  </tbody>\n",
              "</table>\n",
              "<p>1503 rows × 6 columns</p>\n",
              "</div>"
            ],
            "text/plain": [
              "            GOL        CVC       WEGE       MGLU       TOTS        BOVA\n",
              "0     14.990000  15.200000  11.846153   0.232812  11.910702   47.259998\n",
              "1     14.850000  15.000000  11.926923   0.237187  11.544731   46.320000\n",
              "2     15.210000  14.800000  11.750000   0.234062  10.822770   46.580002\n",
              "3     14.550000  14.670000  11.615384   0.241875  10.746248   48.150002\n",
              "4     14.270000  14.150000  11.811538   0.240000  10.995774   48.509998\n",
              "...         ...        ...        ...        ...        ...         ...\n",
              "1498  22.670000  18.370001  88.260002  26.000000  30.150000  113.180000\n",
              "1499  22.209999  17.440001  88.949997  25.750000  30.110001  112.970001\n",
              "1500  23.030001  18.020000  88.690002  25.790001  28.740000  112.970001\n",
              "1501  24.610001  19.240000  87.970001  26.190001  29.459999  113.910004\n",
              "1502  23.950001  19.020000  86.089996  25.559999  28.559999  110.559998\n",
              "\n",
              "[1503 rows x 6 columns]"
            ]
          },
          "metadata": {
            "tags": []
          },
          "execution_count": 18
        }
      ]
    },
    {
      "cell_type": "code",
      "metadata": {
        "colab": {
          "base_uri": "https://localhost:8080/",
          "height": 406
        },
        "id": "gbv8-fu4wUq5",
        "outputId": "f3e71d51-fe33-48c0-be9a-addb7ad2dc26"
      },
      "source": [
        "taxas_retorno"
      ],
      "execution_count": null,
      "outputs": [
        {
          "output_type": "execute_result",
          "data": {
            "text/html": [
              "<div>\n",
              "<style scoped>\n",
              "    .dataframe tbody tr th:only-of-type {\n",
              "        vertical-align: middle;\n",
              "    }\n",
              "\n",
              "    .dataframe tbody tr th {\n",
              "        vertical-align: top;\n",
              "    }\n",
              "\n",
              "    .dataframe thead th {\n",
              "        text-align: right;\n",
              "    }\n",
              "</style>\n",
              "<table border=\"1\" class=\"dataframe\">\n",
              "  <thead>\n",
              "    <tr style=\"text-align: right;\">\n",
              "      <th></th>\n",
              "      <th>GOL</th>\n",
              "      <th>CVC</th>\n",
              "      <th>WEGE</th>\n",
              "      <th>MGLU</th>\n",
              "      <th>TOTS</th>\n",
              "      <th>BOVA</th>\n",
              "    </tr>\n",
              "  </thead>\n",
              "  <tbody>\n",
              "    <tr>\n",
              "      <th>0</th>\n",
              "      <td>NaN</td>\n",
              "      <td>NaN</td>\n",
              "      <td>NaN</td>\n",
              "      <td>NaN</td>\n",
              "      <td>NaN</td>\n",
              "      <td>NaN</td>\n",
              "    </tr>\n",
              "    <tr>\n",
              "      <th>1</th>\n",
              "      <td>-0.009340</td>\n",
              "      <td>-0.013158</td>\n",
              "      <td>0.006818</td>\n",
              "      <td>0.018792</td>\n",
              "      <td>-0.030726</td>\n",
              "      <td>-0.019890</td>\n",
              "    </tr>\n",
              "    <tr>\n",
              "      <th>2</th>\n",
              "      <td>0.024242</td>\n",
              "      <td>-0.013333</td>\n",
              "      <td>-0.014834</td>\n",
              "      <td>-0.013175</td>\n",
              "      <td>-0.062536</td>\n",
              "      <td>0.005613</td>\n",
              "    </tr>\n",
              "    <tr>\n",
              "      <th>3</th>\n",
              "      <td>-0.043392</td>\n",
              "      <td>-0.008784</td>\n",
              "      <td>-0.011457</td>\n",
              "      <td>0.033380</td>\n",
              "      <td>-0.007070</td>\n",
              "      <td>0.033705</td>\n",
              "    </tr>\n",
              "    <tr>\n",
              "      <th>4</th>\n",
              "      <td>-0.019244</td>\n",
              "      <td>-0.035447</td>\n",
              "      <td>0.016887</td>\n",
              "      <td>-0.007752</td>\n",
              "      <td>0.023220</td>\n",
              "      <td>0.007477</td>\n",
              "    </tr>\n",
              "    <tr>\n",
              "      <th>...</th>\n",
              "      <td>...</td>\n",
              "      <td>...</td>\n",
              "      <td>...</td>\n",
              "      <td>...</td>\n",
              "      <td>...</td>\n",
              "      <td>...</td>\n",
              "    </tr>\n",
              "    <tr>\n",
              "      <th>1498</th>\n",
              "      <td>-0.003954</td>\n",
              "      <td>-0.046210</td>\n",
              "      <td>0.006960</td>\n",
              "      <td>0.020008</td>\n",
              "      <td>0.013445</td>\n",
              "      <td>-0.011183</td>\n",
              "    </tr>\n",
              "    <tr>\n",
              "      <th>1499</th>\n",
              "      <td>-0.020291</td>\n",
              "      <td>-0.050626</td>\n",
              "      <td>0.007818</td>\n",
              "      <td>-0.009615</td>\n",
              "      <td>-0.001327</td>\n",
              "      <td>-0.001855</td>\n",
              "    </tr>\n",
              "    <tr>\n",
              "      <th>1500</th>\n",
              "      <td>0.036920</td>\n",
              "      <td>0.033257</td>\n",
              "      <td>-0.002923</td>\n",
              "      <td>0.001553</td>\n",
              "      <td>-0.045500</td>\n",
              "      <td>0.000000</td>\n",
              "    </tr>\n",
              "    <tr>\n",
              "      <th>1501</th>\n",
              "      <td>0.068606</td>\n",
              "      <td>0.067703</td>\n",
              "      <td>-0.008118</td>\n",
              "      <td>0.015510</td>\n",
              "      <td>0.025052</td>\n",
              "      <td>0.008321</td>\n",
              "    </tr>\n",
              "    <tr>\n",
              "      <th>1502</th>\n",
              "      <td>-0.026818</td>\n",
              "      <td>-0.011434</td>\n",
              "      <td>-0.021371</td>\n",
              "      <td>-0.024055</td>\n",
              "      <td>-0.030550</td>\n",
              "      <td>-0.029409</td>\n",
              "    </tr>\n",
              "  </tbody>\n",
              "</table>\n",
              "<p>1503 rows × 6 columns</p>\n",
              "</div>"
            ],
            "text/plain": [
              "           GOL       CVC      WEGE      MGLU      TOTS      BOVA\n",
              "0          NaN       NaN       NaN       NaN       NaN       NaN\n",
              "1    -0.009340 -0.013158  0.006818  0.018792 -0.030726 -0.019890\n",
              "2     0.024242 -0.013333 -0.014834 -0.013175 -0.062536  0.005613\n",
              "3    -0.043392 -0.008784 -0.011457  0.033380 -0.007070  0.033705\n",
              "4    -0.019244 -0.035447  0.016887 -0.007752  0.023220  0.007477\n",
              "...        ...       ...       ...       ...       ...       ...\n",
              "1498 -0.003954 -0.046210  0.006960  0.020008  0.013445 -0.011183\n",
              "1499 -0.020291 -0.050626  0.007818 -0.009615 -0.001327 -0.001855\n",
              "1500  0.036920  0.033257 -0.002923  0.001553 -0.045500  0.000000\n",
              "1501  0.068606  0.067703 -0.008118  0.015510  0.025052  0.008321\n",
              "1502 -0.026818 -0.011434 -0.021371 -0.024055 -0.030550 -0.029409\n",
              "\n",
              "[1503 rows x 6 columns]"
            ]
          },
          "metadata": {
            "tags": []
          },
          "execution_count": 19
        }
      ]
    },
    {
      "cell_type": "markdown",
      "metadata": {
        "id": "1kcLYNwt6IdU"
      },
      "source": [
        "Covariância\r\n",
        "\r\n",
        "$$ \\mathrm{cov}(x,y) = \\frac{\\sum{(x_i-\\bar{x})\\cdot(y_i-\\bar{y})}}{n-1} $$\r\n",
        "\r\n",
        "$$ \\mathrm{corr}(x,y) = \\frac{\\mathrm{cov}(x,y)}{\\sigma_x \\sigma_y} $$"
      ]
    },
    {
      "cell_type": "code",
      "metadata": {
        "id": "wDFmNhml4Az6"
      },
      "source": [
        "idx = 0\r\n",
        "idy = 1\r\n",
        "n = taxas_retorno.shape[0]\r\n",
        "xi = taxas_retorno.iloc[:,idx]\r\n",
        "yi = taxas_retorno.iloc[:,idy]\r\n",
        "# first row without variation\r\n",
        "cov_xy = ((xi-xi.mean()) * (yi-yi.mean())).sum()/(n-1-1)\r\n",
        "assert np.allclose(cov_xy, taxas_retorno.cov().iloc[0,1])\r\n",
        "\r\n",
        "corr_xy = cov_xy/(xi.std()*yi.std())\r\n",
        "assert np.allclose(corr_xy, taxas_retorno.corr().iloc[0,1])"
      ],
      "execution_count": null,
      "outputs": []
    },
    {
      "cell_type": "code",
      "metadata": {
        "colab": {
          "base_uri": "https://localhost:8080/",
          "height": 227
        },
        "id": "A2dHlyuOw_wM",
        "outputId": "6178ebe3-ecdc-470c-c45b-c478195a5bd9"
      },
      "source": [
        "taxas_retorno.cov()\r\n",
        "\r\n",
        "# cov >0 diretamente proporcionais\r\n",
        "# cov <0 inversamente proporcionais\r\n",
        "# cov =0 independentes"
      ],
      "execution_count": null,
      "outputs": [
        {
          "output_type": "execute_result",
          "data": {
            "text/html": [
              "<div>\n",
              "<style scoped>\n",
              "    .dataframe tbody tr th:only-of-type {\n",
              "        vertical-align: middle;\n",
              "    }\n",
              "\n",
              "    .dataframe tbody tr th {\n",
              "        vertical-align: top;\n",
              "    }\n",
              "\n",
              "    .dataframe thead th {\n",
              "        text-align: right;\n",
              "    }\n",
              "</style>\n",
              "<table border=\"1\" class=\"dataframe\">\n",
              "  <thead>\n",
              "    <tr style=\"text-align: right;\">\n",
              "      <th></th>\n",
              "      <th>GOL</th>\n",
              "      <th>CVC</th>\n",
              "      <th>WEGE</th>\n",
              "      <th>MGLU</th>\n",
              "      <th>TOTS</th>\n",
              "      <th>BOVA</th>\n",
              "    </tr>\n",
              "  </thead>\n",
              "  <tbody>\n",
              "    <tr>\n",
              "      <th>GOL</th>\n",
              "      <td>0.002631</td>\n",
              "      <td>0.000905</td>\n",
              "      <td>0.000353</td>\n",
              "      <td>0.000683</td>\n",
              "      <td>0.000383</td>\n",
              "      <td>0.000518</td>\n",
              "    </tr>\n",
              "    <tr>\n",
              "      <th>CVC</th>\n",
              "      <td>0.000905</td>\n",
              "      <td>0.001212</td>\n",
              "      <td>0.000235</td>\n",
              "      <td>0.000462</td>\n",
              "      <td>0.000257</td>\n",
              "      <td>0.000332</td>\n",
              "    </tr>\n",
              "    <tr>\n",
              "      <th>WEGE</th>\n",
              "      <td>0.000353</td>\n",
              "      <td>0.000235</td>\n",
              "      <td>0.000497</td>\n",
              "      <td>0.000274</td>\n",
              "      <td>0.000210</td>\n",
              "      <td>0.000204</td>\n",
              "    </tr>\n",
              "    <tr>\n",
              "      <th>MGLU</th>\n",
              "      <td>0.000683</td>\n",
              "      <td>0.000462</td>\n",
              "      <td>0.000274</td>\n",
              "      <td>0.001738</td>\n",
              "      <td>0.000294</td>\n",
              "      <td>0.000322</td>\n",
              "    </tr>\n",
              "    <tr>\n",
              "      <th>TOTS</th>\n",
              "      <td>0.000383</td>\n",
              "      <td>0.000257</td>\n",
              "      <td>0.000210</td>\n",
              "      <td>0.000294</td>\n",
              "      <td>0.000595</td>\n",
              "      <td>0.000202</td>\n",
              "    </tr>\n",
              "    <tr>\n",
              "      <th>BOVA</th>\n",
              "      <td>0.000518</td>\n",
              "      <td>0.000332</td>\n",
              "      <td>0.000204</td>\n",
              "      <td>0.000322</td>\n",
              "      <td>0.000202</td>\n",
              "      <td>0.000294</td>\n",
              "    </tr>\n",
              "  </tbody>\n",
              "</table>\n",
              "</div>"
            ],
            "text/plain": [
              "           GOL       CVC      WEGE      MGLU      TOTS      BOVA\n",
              "GOL   0.002631  0.000905  0.000353  0.000683  0.000383  0.000518\n",
              "CVC   0.000905  0.001212  0.000235  0.000462  0.000257  0.000332\n",
              "WEGE  0.000353  0.000235  0.000497  0.000274  0.000210  0.000204\n",
              "MGLU  0.000683  0.000462  0.000274  0.001738  0.000294  0.000322\n",
              "TOTS  0.000383  0.000257  0.000210  0.000294  0.000595  0.000202\n",
              "BOVA  0.000518  0.000332  0.000204  0.000322  0.000202  0.000294"
            ]
          },
          "metadata": {
            "tags": []
          },
          "execution_count": 21
        }
      ]
    },
    {
      "cell_type": "markdown",
      "metadata": {
        "id": "qrae7z228RAs"
      },
      "source": [
        "[Empresas BOVA](http://bvmf.bmfbovespa.com.br/indices/ResumoCarteiraQuadrimestre.aspx?Indice=IBOV&idioma=pt-br)"
      ]
    },
    {
      "cell_type": "code",
      "metadata": {
        "colab": {
          "base_uri": "https://localhost:8080/",
          "height": 497
        },
        "id": "TKtp_DcX8mMZ",
        "outputId": "866e5140-862b-459a-edbb-41b0fcd0ff24"
      },
      "source": [
        "# url = 'http://bvmf.bmfbovespa.com.br/indices/ResumoCarteiraQuadrimestre.aspx?Indice=IBOV&idioma=pt-br'\r\n",
        "# @ 30/01/2021\r\n",
        "df_bova = pd.DataFrame(\r\n",
        "    columns=[\"Código \",\"Ação\",\"Tipo\",\"Qtde. Teórica (1)\",\"Part. (%) (2)\"],\r\n",
        "    data=[\r\n",
        "    [\"ABEV3\",\"AMBEV S/A\",\"ON EJ\",4355174839,\"3,112\"],\r\n",
        "    [\"AZUL4\",\"AZUL\",\"PN N2\",327283207,\"0,587\"],\r\n",
        "    [\"B3SA3\",\"B3\",\"ON NM\",1930877944,\"5,418\"],\r\n",
        "    [\"BBAS3\",\"BRASIL\",\"ON NM\",1283197221,\"2,274\"],\r\n",
        "    [\"BBDC3\",\"BRADESCO\",\"ON EJ N1\",1147260246,\"1,268\"],\r\n",
        "    [\"BBDC4\",\"BRADESCO\",\"PN EJ N1\",4261649634,\"5,282\"],\r\n",
        "    [\"BBSE3\",\"BBSEGURIDADE\",\"ON NM\",671584841,\"0,909\"],\r\n",
        "    [\"BEEF3\",\"MINERVA\",\"ON NM\",239331676,\"0,111\"],\r\n",
        "    [\"BPAC11\",\"BTGP BANCO\",\"UNT N2\",236093794,\"1,013\"],\r\n",
        "    [\"BRAP4\",\"BRADESPAR\",\"PN N1\",222075664,\"0,646\"],\r\n",
        "    [\"BRDT3\",\"PETROBRAS BR\",\"ON EJ NM\",1164958126,\"1,177\"],\r\n",
        "    [\"BRFS3\",\"BRF SA\",\"ON NM\",811759800,\"0,817\"],\r\n",
        "    [\"BRKM5\",\"BRASKEM\",\"PNA N1\",264640575,\"0,285\"],\r\n",
        "    [\"BRML3\",\"BR MALLS PAR\",\"ON NM\",843728684,\"0,381\"],\r\n",
        "    [\"BTOW3\",\"B2W DIGITAL\",\"ON NM\",201549295,\"0,696\"],\r\n",
        "    [\"CCRO3\",\"CCR SA\",\"ON NM\",1115695556,\"0,686\"],\r\n",
        "    [\"CIEL3\",\"CIELO\",\"ON EJ NM\",1112196638,\"0,203\"],\r\n",
        "    [\"CMIG4\",\"CEMIG\",\"PN N1\",969723092,\"0,634\"],\r\n",
        "    [\"COGN3\",\"COGNA ON\",\"ON NM\",1847994874,\"0,391\"],\r\n",
        "    [\"CPFE3\",\"CPFL ENERGIA\",\"ON NM\",187714249,\"0,279\"],\r\n",
        "    [\"CPLE6\",\"COPEL\",\"PNB EJ N1\",128297543,\"0,439\"],\r\n",
        "    [\"CRFB3\",\"CARREFOUR BR\",\"ON NM\",391758726,\"0,347\"],\r\n",
        "    [\"CSAN3\",\"COSAN\",\"ON NM\",129314042,\"0,447\"],\r\n",
        "    [\"CSNA3\",\"SID NACIONAL\",\"ON\",642398790,\"0,934\"],\r\n",
        "    [\"CVCB3\",\"CVC BRASIL\",\"ON NM\",172756818,\"0,162\"],\r\n",
        "    [\"CYRE3\",\"CYRELA REALT\",\"ON NM\",281154098,\"0,378\"],\r\n",
        "    [\"ECOR3\",\"ECORODOVIAS\",\"ON NM\",171109276,\"0,104\"],\r\n",
        "    [\"EGIE3\",\"ENGIE BRASIL\",\"ON EDJ NM\",254792279,\"0,511\"],\r\n",
        "    [\"ELET3\",\"ELETROBRAS\",\"ON N1\",358018408,\"0,6\"],\r\n",
        "    [\"ELET6\",\"ELETROBRAS\",\"PNB N1\",242977127,\"0,411\"],\r\n",
        "    [\"EMBR3\",\"EMBRAER\",\"ON NM\",736143105,\"0,298\"],\r\n",
        "    [\"ENBR3\",\"ENERGIAS BR\",\"ON NM\",250403441,\"0,225\"],\r\n",
        "    [\"ENEV3\",\"ENEVA\",\"ON NM\",287844670,\"0,816\"],\r\n",
        "    [\"ENGI11\",\"ENERGISA\",\"UNT N2\",250679709,\"0,599\"],\r\n",
        "    [\"EQTL3\",\"EQUATORIAL\",\"ON NM\",1010286085,\"1,068\"],\r\n",
        "    [\"EZTC3\",\"EZTEC\",\"ON NM\",95756217,\"0,188\"],\r\n",
        "    [\"FLRY3\",\"FLEURY\",\"ON NM\",303800430,\"0,375\"],\r\n",
        "    [\"GGBR4\",\"GERDAU\",\"PN EJ N1\",995903643,\"1,112\"],\r\n",
        "    [\"GNDI3\",\"INTERMEDICA\",\"ON NM\",588176771,\"2,104\"],\r\n",
        "    [\"GOAU4\",\"GERDAU MET\",\"PN EJ N1\",693699918,\"0,357\"],\r\n",
        "    [\"GOLL4\",\"GOL\",\"PN N2\",137725788,\"0,157\"],\r\n",
        "    [\"HAPV3\",\"HAPVIDA\",\"ON NM\",1085256490,\"0,756\"],\r\n",
        "    [\"HGTX3\",\"CIA HERING\",\"ON EDJ NM\",126186408,\"0,099\"],\r\n",
        "    [\"HYPE3\",\"HYPERA\",\"ON EJ NM\",410147968,\"0,641\"],\r\n",
        "    [\"IGTA3\",\"IGUATEMI\",\"ON NM\",85796919,\"0,146\"],\r\n",
        "    [\"IRBR3\",\"IRBBRASIL RE\",\"ON NM\",1255327516,\"0,469\"],\r\n",
        "    [\"ITSA4\",\"ITAUSA\",\"PN N1\",4515538171,\"2,419\"],\r\n",
        "    [\"ITUB4\",\"ITAUUNIBANCO\",\"PN N1\",4757466114,\"6,868\"],\r\n",
        "    [\"JBSS3\",\"JBS\",\"ON NM\",1500315048,\"1,621\"],\r\n",
        "    [\"JHSF3\",\"JHSF PART\",\"ON NM\",288952690,\"0,103\"],\r\n",
        "    [\"KLBN11\",\"KLABIN S/A\",\"UNT N2\",788757519,\"0,953\"],\r\n",
        "    [\"LAME4\",\"LOJAS AMERIC\",\"PN N1\",835451478,\"1,003\"],\r\n",
        "    [\"LCAM3\",\"LOCAMERICA\",\"ON EJ NM\",323763077,\"0,433\"],\r\n",
        "    [\"LREN3\",\"LOJAS RENNER\",\"ON EJ NM\",785417914,\"1,562\"],\r\n",
        "    [\"MGLU3\",\"MAGAZ LUIZA\",\"ON EJ NM\",2668955512,\"3,041\"],\r\n",
        "    [\"MRFG3\",\"MARFRIG\",\"ON NM\",368864634,\"0,244\"],\r\n",
        "    [\"MRVE3\",\"MRV\",\"ON NM\",298796441,\"0,259\"],\r\n",
        "    [\"MULT3\",\"MULTIPLAN\",\"ON EJ N2\",276848567,\"0,297\"],\r\n",
        "    [\"NTCO3\",\"GRUPO NATURA\",\"ON NM\",841083922,\"2,016\"],\r\n",
        "    [\"PCAR3\",\"P.ACUCAR-CBD\",\"ON NM\",157635935,\"0,54\"],\r\n",
        "    [\"PETR3\",\"PETROBRAS\",\"ON N2\",3307982840,\"4,358\"],\r\n",
        "    [\"PETR4\",\"PETROBRAS\",\"PN N2\",4566457037,\"5,91\"],\r\n",
        "    [\"PRIO3\",\"PETRORIO\",\"ON NM\",135160900,\"0,433\"],\r\n",
        "    [\"QUAL3\",\"QUALICORP\",\"ON NM\",283467789,\"0,451\"],\r\n",
        "    [\"RADL3\",\"RAIADROGASIL\",\"ON EJ NM\",1072645150,\"1,227\"],\r\n",
        "    [\"RAIL3\",\"RUMO S.A.\",\"ON NM\",1218081171,\"1,07\"],\r\n",
        "    [\"RENT3\",\"LOCALIZA\",\"ON NM\",592069308,\"1,864\"],\r\n",
        "    [\"SANB11\",\"SANTANDER BR\",\"UNT\",355666691,\"0,728\"],\r\n",
        "    [\"SBSP3\",\"SABESP\",\"ON NM\",339999111,\"0,69\"],\r\n",
        "    [\"SULA11\",\"SUL AMERICA\",\"UNT N2\",279572852,\"0,566\"],\r\n",
        "    [\"SUZB3\",\"SUZANO S.A.\",\"ON NM\",724921241,\"1,938\"],\r\n",
        "    [\"TAEE11\",\"TAESA\",\"UNT N2\",218568274,\"0,333\"],\r\n",
        "    [\"TIMS3\",\"TIM\",\"ON EJ NM\",808485985,\"0,541\"],\r\n",
        "    [\"TOTS3\",\"TOTVS\",\"ON EJ NM\",480228410,\"0,63\"],\r\n",
        "    [\"UGPA3\",\"ULTRAPAR\",\"ON NM\",1087056490,\"1,178\"],\r\n",
        "    [\"USIM5\",\"USIMINAS\",\"PNA N1\",513729947,\"0,343\"],\r\n",
        "    [\"VALE3\",\"VALE\",\"ON NM\",2837320141,\"11,331\"],\r\n",
        "    [\"VIVT3\",\"TELEF BRASIL\",\"ON EDJ\",444219852,\"0,943\"],\r\n",
        "    [\"VVAR3\",\"VIAVAREJO\",\"ON ATZ NM\",1595083594,\"1,177\"],\r\n",
        "    [\"WEGE3\",\"WEG\",\"ON EJ NM\",741148001,\"2,563\"],\r\n",
        "    [\"YDUQ3\",\"YDUQS PART\",\"ON NM\",300483575,\"0,452\"]\r\n",
        "])\r\n",
        "df_bova.sort_values(by=df_bova.columns[-1], ascending=False).head(15)"
      ],
      "execution_count": null,
      "outputs": [
        {
          "output_type": "execute_result",
          "data": {
            "text/html": [
              "<div>\n",
              "<style scoped>\n",
              "    .dataframe tbody tr th:only-of-type {\n",
              "        vertical-align: middle;\n",
              "    }\n",
              "\n",
              "    .dataframe tbody tr th {\n",
              "        vertical-align: top;\n",
              "    }\n",
              "\n",
              "    .dataframe thead th {\n",
              "        text-align: right;\n",
              "    }\n",
              "</style>\n",
              "<table border=\"1\" class=\"dataframe\">\n",
              "  <thead>\n",
              "    <tr style=\"text-align: right;\">\n",
              "      <th></th>\n",
              "      <th>Código</th>\n",
              "      <th>Ação</th>\n",
              "      <th>Tipo</th>\n",
              "      <th>Qtde. Teórica (1)</th>\n",
              "      <th>Part. (%) (2)</th>\n",
              "    </tr>\n",
              "  </thead>\n",
              "  <tbody>\n",
              "    <tr>\n",
              "      <th>47</th>\n",
              "      <td>ITUB4</td>\n",
              "      <td>ITAUUNIBANCO</td>\n",
              "      <td>PN N1</td>\n",
              "      <td>4757466114</td>\n",
              "      <td>6,868</td>\n",
              "    </tr>\n",
              "    <tr>\n",
              "      <th>61</th>\n",
              "      <td>PETR4</td>\n",
              "      <td>PETROBRAS</td>\n",
              "      <td>PN N2</td>\n",
              "      <td>4566457037</td>\n",
              "      <td>5,91</td>\n",
              "    </tr>\n",
              "    <tr>\n",
              "      <th>2</th>\n",
              "      <td>B3SA3</td>\n",
              "      <td>B3</td>\n",
              "      <td>ON NM</td>\n",
              "      <td>1930877944</td>\n",
              "      <td>5,418</td>\n",
              "    </tr>\n",
              "    <tr>\n",
              "      <th>5</th>\n",
              "      <td>BBDC4</td>\n",
              "      <td>BRADESCO</td>\n",
              "      <td>PN EJ N1</td>\n",
              "      <td>4261649634</td>\n",
              "      <td>5,282</td>\n",
              "    </tr>\n",
              "    <tr>\n",
              "      <th>60</th>\n",
              "      <td>PETR3</td>\n",
              "      <td>PETROBRAS</td>\n",
              "      <td>ON N2</td>\n",
              "      <td>3307982840</td>\n",
              "      <td>4,358</td>\n",
              "    </tr>\n",
              "    <tr>\n",
              "      <th>0</th>\n",
              "      <td>ABEV3</td>\n",
              "      <td>AMBEV S/A</td>\n",
              "      <td>ON EJ</td>\n",
              "      <td>4355174839</td>\n",
              "      <td>3,112</td>\n",
              "    </tr>\n",
              "    <tr>\n",
              "      <th>54</th>\n",
              "      <td>MGLU3</td>\n",
              "      <td>MAGAZ LUIZA</td>\n",
              "      <td>ON EJ NM</td>\n",
              "      <td>2668955512</td>\n",
              "      <td>3,041</td>\n",
              "    </tr>\n",
              "    <tr>\n",
              "      <th>79</th>\n",
              "      <td>WEGE3</td>\n",
              "      <td>WEG</td>\n",
              "      <td>ON EJ NM</td>\n",
              "      <td>741148001</td>\n",
              "      <td>2,563</td>\n",
              "    </tr>\n",
              "    <tr>\n",
              "      <th>46</th>\n",
              "      <td>ITSA4</td>\n",
              "      <td>ITAUSA</td>\n",
              "      <td>PN N1</td>\n",
              "      <td>4515538171</td>\n",
              "      <td>2,419</td>\n",
              "    </tr>\n",
              "    <tr>\n",
              "      <th>3</th>\n",
              "      <td>BBAS3</td>\n",
              "      <td>BRASIL</td>\n",
              "      <td>ON NM</td>\n",
              "      <td>1283197221</td>\n",
              "      <td>2,274</td>\n",
              "    </tr>\n",
              "    <tr>\n",
              "      <th>38</th>\n",
              "      <td>GNDI3</td>\n",
              "      <td>INTERMEDICA</td>\n",
              "      <td>ON NM</td>\n",
              "      <td>588176771</td>\n",
              "      <td>2,104</td>\n",
              "    </tr>\n",
              "    <tr>\n",
              "      <th>58</th>\n",
              "      <td>NTCO3</td>\n",
              "      <td>GRUPO NATURA</td>\n",
              "      <td>ON NM</td>\n",
              "      <td>841083922</td>\n",
              "      <td>2,016</td>\n",
              "    </tr>\n",
              "    <tr>\n",
              "      <th>76</th>\n",
              "      <td>VALE3</td>\n",
              "      <td>VALE</td>\n",
              "      <td>ON NM</td>\n",
              "      <td>2837320141</td>\n",
              "      <td>11,331</td>\n",
              "    </tr>\n",
              "    <tr>\n",
              "      <th>70</th>\n",
              "      <td>SUZB3</td>\n",
              "      <td>SUZANO S.A.</td>\n",
              "      <td>ON NM</td>\n",
              "      <td>724921241</td>\n",
              "      <td>1,938</td>\n",
              "    </tr>\n",
              "    <tr>\n",
              "      <th>66</th>\n",
              "      <td>RENT3</td>\n",
              "      <td>LOCALIZA</td>\n",
              "      <td>ON NM</td>\n",
              "      <td>592069308</td>\n",
              "      <td>1,864</td>\n",
              "    </tr>\n",
              "  </tbody>\n",
              "</table>\n",
              "</div>"
            ],
            "text/plain": [
              "   Código           Ação      Tipo  Qtde. Teórica (1) Part. (%) (2)\n",
              "47   ITUB4  ITAUUNIBANCO     PN N1         4757466114         6,868\n",
              "61   PETR4     PETROBRAS     PN N2         4566457037          5,91\n",
              "2    B3SA3            B3     ON NM         1930877944         5,418\n",
              "5    BBDC4      BRADESCO  PN EJ N1         4261649634         5,282\n",
              "60   PETR3     PETROBRAS     ON N2         3307982840         4,358\n",
              "0    ABEV3     AMBEV S/A     ON EJ         4355174839         3,112\n",
              "54   MGLU3   MAGAZ LUIZA  ON EJ NM         2668955512         3,041\n",
              "79   WEGE3           WEG  ON EJ NM          741148001         2,563\n",
              "46   ITSA4        ITAUSA     PN N1         4515538171         2,419\n",
              "3    BBAS3        BRASIL     ON NM         1283197221         2,274\n",
              "38   GNDI3   INTERMEDICA     ON NM          588176771         2,104\n",
              "58   NTCO3  GRUPO NATURA     ON NM          841083922         2,016\n",
              "76   VALE3          VALE     ON NM         2837320141        11,331\n",
              "70   SUZB3   SUZANO S.A.     ON NM          724921241         1,938\n",
              "66   RENT3      LOCALIZA     ON NM          592069308         1,864"
            ]
          },
          "metadata": {
            "tags": []
          },
          "execution_count": 22
        }
      ]
    },
    {
      "cell_type": "code",
      "metadata": {
        "colab": {
          "base_uri": "https://localhost:8080/",
          "height": 227
        },
        "id": "WsaMv-JzyBB8",
        "outputId": "e60fee22-bb1b-407f-93dc-18ed06982148"
      },
      "source": [
        "taxas_retorno.corr()\n",
        "\n",
        "# corr <0 inversamente relacionadas\n",
        "# corr >0 diretamente relacionadas\n",
        "# corr ~0 independentes\n",
        "# 0-0,2: bem fraca\n",
        "# 0,2-0,4: fraca\n",
        "# 0,4-0,7: moderada\n",
        "# 0,7-0,9: forte\n",
        "# 0,9-1,0: muito forte\n",
        "# corr ~1 muito relacionadas"
      ],
      "execution_count": null,
      "outputs": [
        {
          "output_type": "execute_result",
          "data": {
            "text/html": [
              "<div>\n",
              "<style scoped>\n",
              "    .dataframe tbody tr th:only-of-type {\n",
              "        vertical-align: middle;\n",
              "    }\n",
              "\n",
              "    .dataframe tbody tr th {\n",
              "        vertical-align: top;\n",
              "    }\n",
              "\n",
              "    .dataframe thead th {\n",
              "        text-align: right;\n",
              "    }\n",
              "</style>\n",
              "<table border=\"1\" class=\"dataframe\">\n",
              "  <thead>\n",
              "    <tr style=\"text-align: right;\">\n",
              "      <th></th>\n",
              "      <th>GOL</th>\n",
              "      <th>CVC</th>\n",
              "      <th>WEGE</th>\n",
              "      <th>MGLU</th>\n",
              "      <th>TOTS</th>\n",
              "      <th>BOVA</th>\n",
              "    </tr>\n",
              "  </thead>\n",
              "  <tbody>\n",
              "    <tr>\n",
              "      <th>GOL</th>\n",
              "      <td>1.000000</td>\n",
              "      <td>0.506601</td>\n",
              "      <td>0.309044</td>\n",
              "      <td>0.319580</td>\n",
              "      <td>0.306425</td>\n",
              "      <td>0.589219</td>\n",
              "    </tr>\n",
              "    <tr>\n",
              "      <th>CVC</th>\n",
              "      <td>0.506601</td>\n",
              "      <td>1.000000</td>\n",
              "      <td>0.302296</td>\n",
              "      <td>0.318399</td>\n",
              "      <td>0.302311</td>\n",
              "      <td>0.555652</td>\n",
              "    </tr>\n",
              "    <tr>\n",
              "      <th>WEGE</th>\n",
              "      <td>0.309044</td>\n",
              "      <td>0.302296</td>\n",
              "      <td>1.000000</td>\n",
              "      <td>0.295242</td>\n",
              "      <td>0.385305</td>\n",
              "      <td>0.532678</td>\n",
              "    </tr>\n",
              "    <tr>\n",
              "      <th>MGLU</th>\n",
              "      <td>0.319580</td>\n",
              "      <td>0.318399</td>\n",
              "      <td>0.295242</td>\n",
              "      <td>1.000000</td>\n",
              "      <td>0.289295</td>\n",
              "      <td>0.450266</td>\n",
              "    </tr>\n",
              "    <tr>\n",
              "      <th>TOTS</th>\n",
              "      <td>0.306425</td>\n",
              "      <td>0.302311</td>\n",
              "      <td>0.385305</td>\n",
              "      <td>0.289295</td>\n",
              "      <td>1.000000</td>\n",
              "      <td>0.482650</td>\n",
              "    </tr>\n",
              "    <tr>\n",
              "      <th>BOVA</th>\n",
              "      <td>0.589219</td>\n",
              "      <td>0.555652</td>\n",
              "      <td>0.532678</td>\n",
              "      <td>0.450266</td>\n",
              "      <td>0.482650</td>\n",
              "      <td>1.000000</td>\n",
              "    </tr>\n",
              "  </tbody>\n",
              "</table>\n",
              "</div>"
            ],
            "text/plain": [
              "           GOL       CVC      WEGE      MGLU      TOTS      BOVA\n",
              "GOL   1.000000  0.506601  0.309044  0.319580  0.306425  0.589219\n",
              "CVC   0.506601  1.000000  0.302296  0.318399  0.302311  0.555652\n",
              "WEGE  0.309044  0.302296  1.000000  0.295242  0.385305  0.532678\n",
              "MGLU  0.319580  0.318399  0.295242  1.000000  0.289295  0.450266\n",
              "TOTS  0.306425  0.302311  0.385305  0.289295  1.000000  0.482650\n",
              "BOVA  0.589219  0.555652  0.532678  0.450266  0.482650  1.000000"
            ]
          },
          "metadata": {
            "tags": []
          },
          "execution_count": 23
        }
      ]
    },
    {
      "cell_type": "code",
      "metadata": {
        "colab": {
          "base_uri": "https://localhost:8080/",
          "height": 486
        },
        "id": "LGkZkuG8zfcT",
        "outputId": "db15334f-e814-4245-bfc5-63b85a9f15e7"
      },
      "source": [
        "plt.figure(figsize=(8,8))\n",
        "sns.heatmap(taxas_retorno.corr(), annot=True, cmap=\"RdBu_r\");"
      ],
      "execution_count": null,
      "outputs": [
        {
          "output_type": "display_data",
          "data": {
            "image/png": "[encoded data removed]",
            "text/plain": [
              "<Figure size 576x576 with 2 Axes>"
            ]
          },
          "metadata": {
            "tags": [],
            "needs_background": "light"
          }
        }
      ]
    },
    {
      "cell_type": "markdown",
      "metadata": {
        "id": "_leJrS3iJCWQ"
      },
      "source": [
        "## Risco de um portfólio"
      ]
    },
    {
      "cell_type": "markdown",
      "metadata": {
        "id": "OaQ_6HmNYXTX"
      },
      "source": [
        "### Somente duas ações"
      ]
    },
    {
      "cell_type": "code",
      "metadata": {
        "colab": {
          "base_uri": "https://localhost:8080/",
          "height": 406
        },
        "id": "Rl0_pBxZ1iKy",
        "outputId": "f738a44f-10c1-4bbf-b146-0bdb3465b3be"
      },
      "source": [
        "taxas_retorno"
      ],
      "execution_count": null,
      "outputs": [
        {
          "output_type": "execute_result",
          "data": {
            "text/html": [
              "<div>\n",
              "<style scoped>\n",
              "    .dataframe tbody tr th:only-of-type {\n",
              "        vertical-align: middle;\n",
              "    }\n",
              "\n",
              "    .dataframe tbody tr th {\n",
              "        vertical-align: top;\n",
              "    }\n",
              "\n",
              "    .dataframe thead th {\n",
              "        text-align: right;\n",
              "    }\n",
              "</style>\n",
              "<table border=\"1\" class=\"dataframe\">\n",
              "  <thead>\n",
              "    <tr style=\"text-align: right;\">\n",
              "      <th></th>\n",
              "      <th>GOL</th>\n",
              "      <th>CVC</th>\n",
              "      <th>WEGE</th>\n",
              "      <th>MGLU</th>\n",
              "      <th>TOTS</th>\n",
              "      <th>BOVA</th>\n",
              "    </tr>\n",
              "  </thead>\n",
              "  <tbody>\n",
              "    <tr>\n",
              "      <th>0</th>\n",
              "      <td>NaN</td>\n",
              "      <td>NaN</td>\n",
              "      <td>NaN</td>\n",
              "      <td>NaN</td>\n",
              "      <td>NaN</td>\n",
              "      <td>NaN</td>\n",
              "    </tr>\n",
              "    <tr>\n",
              "      <th>1</th>\n",
              "      <td>-0.009340</td>\n",
              "      <td>-0.013158</td>\n",
              "      <td>0.006818</td>\n",
              "      <td>0.018792</td>\n",
              "      <td>-0.030726</td>\n",
              "      <td>-0.019890</td>\n",
              "    </tr>\n",
              "    <tr>\n",
              "      <th>2</th>\n",
              "      <td>0.024242</td>\n",
              "      <td>-0.013333</td>\n",
              "      <td>-0.014834</td>\n",
              "      <td>-0.013175</td>\n",
              "      <td>-0.062536</td>\n",
              "      <td>0.005613</td>\n",
              "    </tr>\n",
              "    <tr>\n",
              "      <th>3</th>\n",
              "      <td>-0.043392</td>\n",
              "      <td>-0.008784</td>\n",
              "      <td>-0.011457</td>\n",
              "      <td>0.033380</td>\n",
              "      <td>-0.007070</td>\n",
              "      <td>0.033705</td>\n",
              "    </tr>\n",
              "    <tr>\n",
              "      <th>4</th>\n",
              "      <td>-0.019244</td>\n",
              "      <td>-0.035447</td>\n",
              "      <td>0.016887</td>\n",
              "      <td>-0.007752</td>\n",
              "      <td>0.023220</td>\n",
              "      <td>0.007477</td>\n",
              "    </tr>\n",
              "    <tr>\n",
              "      <th>...</th>\n",
              "      <td>...</td>\n",
              "      <td>...</td>\n",
              "      <td>...</td>\n",
              "      <td>...</td>\n",
              "      <td>...</td>\n",
              "      <td>...</td>\n",
              "    </tr>\n",
              "    <tr>\n",
              "      <th>1498</th>\n",
              "      <td>-0.003954</td>\n",
              "      <td>-0.046210</td>\n",
              "      <td>0.006960</td>\n",
              "      <td>0.020008</td>\n",
              "      <td>0.013445</td>\n",
              "      <td>-0.011183</td>\n",
              "    </tr>\n",
              "    <tr>\n",
              "      <th>1499</th>\n",
              "      <td>-0.020291</td>\n",
              "      <td>-0.050626</td>\n",
              "      <td>0.007818</td>\n",
              "      <td>-0.009615</td>\n",
              "      <td>-0.001327</td>\n",
              "      <td>-0.001855</td>\n",
              "    </tr>\n",
              "    <tr>\n",
              "      <th>1500</th>\n",
              "      <td>0.036920</td>\n",
              "      <td>0.033257</td>\n",
              "      <td>-0.002923</td>\n",
              "      <td>0.001553</td>\n",
              "      <td>-0.045500</td>\n",
              "      <td>0.000000</td>\n",
              "    </tr>\n",
              "    <tr>\n",
              "      <th>1501</th>\n",
              "      <td>0.068606</td>\n",
              "      <td>0.067703</td>\n",
              "      <td>-0.008118</td>\n",
              "      <td>0.015510</td>\n",
              "      <td>0.025052</td>\n",
              "      <td>0.008321</td>\n",
              "    </tr>\n",
              "    <tr>\n",
              "      <th>1502</th>\n",
              "      <td>-0.026818</td>\n",
              "      <td>-0.011434</td>\n",
              "      <td>-0.021371</td>\n",
              "      <td>-0.024055</td>\n",
              "      <td>-0.030550</td>\n",
              "      <td>-0.029409</td>\n",
              "    </tr>\n",
              "  </tbody>\n",
              "</table>\n",
              "<p>1503 rows × 6 columns</p>\n",
              "</div>"
            ],
            "text/plain": [
              "           GOL       CVC      WEGE      MGLU      TOTS      BOVA\n",
              "0          NaN       NaN       NaN       NaN       NaN       NaN\n",
              "1    -0.009340 -0.013158  0.006818  0.018792 -0.030726 -0.019890\n",
              "2     0.024242 -0.013333 -0.014834 -0.013175 -0.062536  0.005613\n",
              "3    -0.043392 -0.008784 -0.011457  0.033380 -0.007070  0.033705\n",
              "4    -0.019244 -0.035447  0.016887 -0.007752  0.023220  0.007477\n",
              "...        ...       ...       ...       ...       ...       ...\n",
              "1498 -0.003954 -0.046210  0.006960  0.020008  0.013445 -0.011183\n",
              "1499 -0.020291 -0.050626  0.007818 -0.009615 -0.001327 -0.001855\n",
              "1500  0.036920  0.033257 -0.002923  0.001553 -0.045500  0.000000\n",
              "1501  0.068606  0.067703 -0.008118  0.015510  0.025052  0.008321\n",
              "1502 -0.026818 -0.011434 -0.021371 -0.024055 -0.030550 -0.029409\n",
              "\n",
              "[1503 rows x 6 columns]"
            ]
          },
          "metadata": {
            "tags": []
          },
          "execution_count": 25
        }
      ]
    },
    {
      "cell_type": "code",
      "metadata": {
        "colab": {
          "base_uri": "https://localhost:8080/",
          "height": 406
        },
        "id": "8zzZJquB1p1P",
        "outputId": "95292eb6-9928-4d8a-a386-5ab959e9ef7e"
      },
      "source": [
        "taxas_retorno_gol_cvc = taxas_retorno[['GOL','CVC']]#.drop(columns = ['WEGE', 'MGLU', 'TOTS', 'BOVA'])\n",
        "taxas_retorno_gol_cvc"
      ],
      "execution_count": null,
      "outputs": [
        {
          "output_type": "execute_result",
          "data": {
            "text/html": [
              "<div>\n",
              "<style scoped>\n",
              "    .dataframe tbody tr th:only-of-type {\n",
              "        vertical-align: middle;\n",
              "    }\n",
              "\n",
              "    .dataframe tbody tr th {\n",
              "        vertical-align: top;\n",
              "    }\n",
              "\n",
              "    .dataframe thead th {\n",
              "        text-align: right;\n",
              "    }\n",
              "</style>\n",
              "<table border=\"1\" class=\"dataframe\">\n",
              "  <thead>\n",
              "    <tr style=\"text-align: right;\">\n",
              "      <th></th>\n",
              "      <th>GOL</th>\n",
              "      <th>CVC</th>\n",
              "    </tr>\n",
              "  </thead>\n",
              "  <tbody>\n",
              "    <tr>\n",
              "      <th>0</th>\n",
              "      <td>NaN</td>\n",
              "      <td>NaN</td>\n",
              "    </tr>\n",
              "    <tr>\n",
              "      <th>1</th>\n",
              "      <td>-0.009340</td>\n",
              "      <td>-0.013158</td>\n",
              "    </tr>\n",
              "    <tr>\n",
              "      <th>2</th>\n",
              "      <td>0.024242</td>\n",
              "      <td>-0.013333</td>\n",
              "    </tr>\n",
              "    <tr>\n",
              "      <th>3</th>\n",
              "      <td>-0.043392</td>\n",
              "      <td>-0.008784</td>\n",
              "    </tr>\n",
              "    <tr>\n",
              "      <th>4</th>\n",
              "      <td>-0.019244</td>\n",
              "      <td>-0.035447</td>\n",
              "    </tr>\n",
              "    <tr>\n",
              "      <th>...</th>\n",
              "      <td>...</td>\n",
              "      <td>...</td>\n",
              "    </tr>\n",
              "    <tr>\n",
              "      <th>1498</th>\n",
              "      <td>-0.003954</td>\n",
              "      <td>-0.046210</td>\n",
              "    </tr>\n",
              "    <tr>\n",
              "      <th>1499</th>\n",
              "      <td>-0.020291</td>\n",
              "      <td>-0.050626</td>\n",
              "    </tr>\n",
              "    <tr>\n",
              "      <th>1500</th>\n",
              "      <td>0.036920</td>\n",
              "      <td>0.033257</td>\n",
              "    </tr>\n",
              "    <tr>\n",
              "      <th>1501</th>\n",
              "      <td>0.068606</td>\n",
              "      <td>0.067703</td>\n",
              "    </tr>\n",
              "    <tr>\n",
              "      <th>1502</th>\n",
              "      <td>-0.026818</td>\n",
              "      <td>-0.011434</td>\n",
              "    </tr>\n",
              "  </tbody>\n",
              "</table>\n",
              "<p>1503 rows × 2 columns</p>\n",
              "</div>"
            ],
            "text/plain": [
              "           GOL       CVC\n",
              "0          NaN       NaN\n",
              "1    -0.009340 -0.013158\n",
              "2     0.024242 -0.013333\n",
              "3    -0.043392 -0.008784\n",
              "4    -0.019244 -0.035447\n",
              "...        ...       ...\n",
              "1498 -0.003954 -0.046210\n",
              "1499 -0.020291 -0.050626\n",
              "1500  0.036920  0.033257\n",
              "1501  0.068606  0.067703\n",
              "1502 -0.026818 -0.011434\n",
              "\n",
              "[1503 rows x 2 columns]"
            ]
          },
          "metadata": {
            "tags": []
          },
          "execution_count": 26
        }
      ]
    },
    {
      "cell_type": "code",
      "metadata": {
        "colab": {
          "base_uri": "https://localhost:8080/",
          "height": 107
        },
        "id": "pCjrtLl_2FbJ",
        "outputId": "ec0c05e9-5eea-4b0d-ad77-973a384f73ef"
      },
      "source": [
        "taxas_retorno_gol_cvc.cov()"
      ],
      "execution_count": null,
      "outputs": [
        {
          "output_type": "execute_result",
          "data": {
            "text/html": [
              "<div>\n",
              "<style scoped>\n",
              "    .dataframe tbody tr th:only-of-type {\n",
              "        vertical-align: middle;\n",
              "    }\n",
              "\n",
              "    .dataframe tbody tr th {\n",
              "        vertical-align: top;\n",
              "    }\n",
              "\n",
              "    .dataframe thead th {\n",
              "        text-align: right;\n",
              "    }\n",
              "</style>\n",
              "<table border=\"1\" class=\"dataframe\">\n",
              "  <thead>\n",
              "    <tr style=\"text-align: right;\">\n",
              "      <th></th>\n",
              "      <th>GOL</th>\n",
              "      <th>CVC</th>\n",
              "    </tr>\n",
              "  </thead>\n",
              "  <tbody>\n",
              "    <tr>\n",
              "      <th>GOL</th>\n",
              "      <td>0.002631</td>\n",
              "      <td>0.000905</td>\n",
              "    </tr>\n",
              "    <tr>\n",
              "      <th>CVC</th>\n",
              "      <td>0.000905</td>\n",
              "      <td>0.001212</td>\n",
              "    </tr>\n",
              "  </tbody>\n",
              "</table>\n",
              "</div>"
            ],
            "text/plain": [
              "          GOL       CVC\n",
              "GOL  0.002631  0.000905\n",
              "CVC  0.000905  0.001212"
            ]
          },
          "metadata": {
            "tags": []
          },
          "execution_count": 27
        }
      ]
    },
    {
      "cell_type": "code",
      "metadata": {
        "colab": {
          "base_uri": "https://localhost:8080/",
          "height": 107
        },
        "id": "G_N-BvVk2UQv",
        "outputId": "79c8df8a-36e3-45c1-d5aa-7a314840abd1"
      },
      "source": [
        "taxas_retorno_gol_cvc.cov() * days_bolsa"
      ],
      "execution_count": null,
      "outputs": [
        {
          "output_type": "execute_result",
          "data": {
            "text/html": [
              "<div>\n",
              "<style scoped>\n",
              "    .dataframe tbody tr th:only-of-type {\n",
              "        vertical-align: middle;\n",
              "    }\n",
              "\n",
              "    .dataframe tbody tr th {\n",
              "        vertical-align: top;\n",
              "    }\n",
              "\n",
              "    .dataframe thead th {\n",
              "        text-align: right;\n",
              "    }\n",
              "</style>\n",
              "<table border=\"1\" class=\"dataframe\">\n",
              "  <thead>\n",
              "    <tr style=\"text-align: right;\">\n",
              "      <th></th>\n",
              "      <th>GOL</th>\n",
              "      <th>CVC</th>\n",
              "    </tr>\n",
              "  </thead>\n",
              "  <tbody>\n",
              "    <tr>\n",
              "      <th>GOL</th>\n",
              "      <td>0.647183</td>\n",
              "      <td>0.222546</td>\n",
              "    </tr>\n",
              "    <tr>\n",
              "      <th>CVC</th>\n",
              "      <td>0.222546</td>\n",
              "      <td>0.298183</td>\n",
              "    </tr>\n",
              "  </tbody>\n",
              "</table>\n",
              "</div>"
            ],
            "text/plain": [
              "          GOL       CVC\n",
              "GOL  0.647183  0.222546\n",
              "CVC  0.222546  0.298183"
            ]
          },
          "metadata": {
            "tags": []
          },
          "execution_count": 28
        }
      ]
    },
    {
      "cell_type": "code",
      "metadata": {
        "id": "BNzJdylB2gUx"
      },
      "source": [
        "pesos = np.array([0.5, 0.5])\r\n",
        "assert pesos.sum() == 1.0"
      ],
      "execution_count": null,
      "outputs": []
    },
    {
      "cell_type": "code",
      "metadata": {
        "colab": {
          "base_uri": "https://localhost:8080/"
        },
        "id": "SOYUEJdg5AZu",
        "outputId": "b14d0710-e5ec-4e1f-de48-f13569512ed0"
      },
      "source": [
        "np.dot(taxas_retorno_gol_cvc.cov() * days_bolsa, pesos)"
      ],
      "execution_count": null,
      "outputs": [
        {
          "output_type": "execute_result",
          "data": {
            "text/plain": [
              "array([0.43486474, 0.26036446])"
            ]
          },
          "metadata": {
            "tags": []
          },
          "execution_count": 30
        }
      ]
    },
    {
      "cell_type": "code",
      "metadata": {
        "colab": {
          "base_uri": "https://localhost:8080/"
        },
        "id": "_kMUpXQf5YdV",
        "outputId": "5fd89487-bd63-45d3-c9b5-80765c362ce7"
      },
      "source": [
        "# variancia\r\n",
        "np.dot(pesos, np.dot(taxas_retorno_gol_cvc.cov() * days_bolsa, pesos))"
      ],
      "execution_count": null,
      "outputs": [
        {
          "output_type": "execute_result",
          "data": {
            "text/plain": [
              "0.34761459904219427"
            ]
          },
          "metadata": {
            "tags": []
          },
          "execution_count": 31
        }
      ]
    },
    {
      "cell_type": "code",
      "metadata": {
        "colab": {
          "base_uri": "https://localhost:8080/"
        },
        "id": "FVUlcRa25olE",
        "outputId": "598fe054-8e12-476c-819b-165bf1dbbbd2"
      },
      "source": [
        "# desvio padrão (risco)\r\n",
        "np.sqrt(np.dot(pesos, np.dot(taxas_retorno_gol_cvc.cov() * days_bolsa, pesos))) * 100"
      ],
      "execution_count": null,
      "outputs": [
        {
          "output_type": "execute_result",
          "data": {
            "text/plain": [
              "58.95884997540185"
            ]
          },
          "metadata": {
            "tags": []
          },
          "execution_count": 32
        }
      ]
    },
    {
      "cell_type": "markdown",
      "metadata": {
        "id": "c1wTpHntY717"
      },
      "source": [
        "### Todas as ações"
      ]
    },
    {
      "cell_type": "code",
      "metadata": {
        "colab": {
          "base_uri": "https://localhost:8080/"
        },
        "id": "_gGk8djnGW85",
        "outputId": "cf29312a-99b6-4448-c9d6-1b2ba5edb336"
      },
      "source": [
        "list(dataset.columns)"
      ],
      "execution_count": null,
      "outputs": [
        {
          "output_type": "execute_result",
          "data": {
            "text/plain": [
              "['GOL', 'CVC', 'WEGE', 'MGLU', 'TOTS', 'BOVA']"
            ]
          },
          "metadata": {
            "tags": []
          },
          "execution_count": 33
        }
      ]
    },
    {
      "cell_type": "code",
      "metadata": {
        "colab": {
          "base_uri": "https://localhost:8080/",
          "height": 227
        },
        "id": "V-KXY8uyGmoV",
        "outputId": "16d76ebc-2dee-4090-a14a-1009e96714f9"
      },
      "source": [
        "taxas_retorno.cov() * days_bolsa"
      ],
      "execution_count": null,
      "outputs": [
        {
          "output_type": "execute_result",
          "data": {
            "text/html": [
              "<div>\n",
              "<style scoped>\n",
              "    .dataframe tbody tr th:only-of-type {\n",
              "        vertical-align: middle;\n",
              "    }\n",
              "\n",
              "    .dataframe tbody tr th {\n",
              "        vertical-align: top;\n",
              "    }\n",
              "\n",
              "    .dataframe thead th {\n",
              "        text-align: right;\n",
              "    }\n",
              "</style>\n",
              "<table border=\"1\" class=\"dataframe\">\n",
              "  <thead>\n",
              "    <tr style=\"text-align: right;\">\n",
              "      <th></th>\n",
              "      <th>GOL</th>\n",
              "      <th>CVC</th>\n",
              "      <th>WEGE</th>\n",
              "      <th>MGLU</th>\n",
              "      <th>TOTS</th>\n",
              "      <th>BOVA</th>\n",
              "    </tr>\n",
              "  </thead>\n",
              "  <tbody>\n",
              "    <tr>\n",
              "      <th>GOL</th>\n",
              "      <td>0.647183</td>\n",
              "      <td>0.222546</td>\n",
              "      <td>0.086933</td>\n",
              "      <td>0.168089</td>\n",
              "      <td>0.094337</td>\n",
              "      <td>0.127537</td>\n",
              "    </tr>\n",
              "    <tr>\n",
              "      <th>CVC</th>\n",
              "      <td>0.222546</td>\n",
              "      <td>0.298183</td>\n",
              "      <td>0.057720</td>\n",
              "      <td>0.113674</td>\n",
              "      <td>0.063174</td>\n",
              "      <td>0.081638</td>\n",
              "    </tr>\n",
              "    <tr>\n",
              "      <th>WEGE</th>\n",
              "      <td>0.086933</td>\n",
              "      <td>0.057720</td>\n",
              "      <td>0.122266</td>\n",
              "      <td>0.067496</td>\n",
              "      <td>0.051559</td>\n",
              "      <td>0.050115</td>\n",
              "    </tr>\n",
              "    <tr>\n",
              "      <th>MGLU</th>\n",
              "      <td>0.168089</td>\n",
              "      <td>0.113674</td>\n",
              "      <td>0.067496</td>\n",
              "      <td>0.427458</td>\n",
              "      <td>0.072382</td>\n",
              "      <td>0.079207</td>\n",
              "    </tr>\n",
              "    <tr>\n",
              "      <th>TOTS</th>\n",
              "      <td>0.094337</td>\n",
              "      <td>0.063174</td>\n",
              "      <td>0.051559</td>\n",
              "      <td>0.072382</td>\n",
              "      <td>0.146450</td>\n",
              "      <td>0.049696</td>\n",
              "    </tr>\n",
              "    <tr>\n",
              "      <th>BOVA</th>\n",
              "      <td>0.127537</td>\n",
              "      <td>0.081638</td>\n",
              "      <td>0.050115</td>\n",
              "      <td>0.079207</td>\n",
              "      <td>0.049696</td>\n",
              "      <td>0.072392</td>\n",
              "    </tr>\n",
              "  </tbody>\n",
              "</table>\n",
              "</div>"
            ],
            "text/plain": [
              "           GOL       CVC      WEGE      MGLU      TOTS      BOVA\n",
              "GOL   0.647183  0.222546  0.086933  0.168089  0.094337  0.127537\n",
              "CVC   0.222546  0.298183  0.057720  0.113674  0.063174  0.081638\n",
              "WEGE  0.086933  0.057720  0.122266  0.067496  0.051559  0.050115\n",
              "MGLU  0.168089  0.113674  0.067496  0.427458  0.072382  0.079207\n",
              "TOTS  0.094337  0.063174  0.051559  0.072382  0.146450  0.049696\n",
              "BOVA  0.127537  0.081638  0.050115  0.079207  0.049696  0.072392"
            ]
          },
          "metadata": {
            "tags": []
          },
          "execution_count": 34
        }
      ]
    },
    {
      "cell_type": "code",
      "metadata": {
        "id": "0KB7FeJ6AcTZ"
      },
      "source": [
        "carteira1 = {\r\n",
        "    'GOL': 0.2,\r\n",
        "    'CVC': 0.2,\r\n",
        "    'WEGE': 0.2,\r\n",
        "    'MGLU': 0.2,\r\n",
        "    'TOTS': 0.2,\r\n",
        "    'BOVA': 0.0\r\n",
        "}\r\n",
        "\r\n",
        "carteira2 = {\r\n",
        "    'GOL': 0.1,\r\n",
        "    'CVC': 0.2,\r\n",
        "    'WEGE': 0.2,\r\n",
        "    'MGLU': 0.4,\r\n",
        "    'TOTS': 0.1,\r\n",
        "    'BOVA': 0.0\r\n",
        "}\r\n",
        "\r\n",
        "indiceIbovespa = {\r\n",
        "    'GOL': 0.0,\r\n",
        "    'CVC': 0.0,\r\n",
        "    'WEGE': 0.0,\r\n",
        "    'MGLU': 0.0,\r\n",
        "    'TOTS': 0.0,\r\n",
        "    'BOVA': 1.0\r\n",
        "}\r\n",
        "\r\n",
        "assert sum(carteira1.values()) == 1.0\r\n",
        "assert sum(carteira2.values()) == 1.0\r\n",
        "assert sum(indiceIbovespa.values()) == 1.0"
      ],
      "execution_count": null,
      "outputs": []
    },
    {
      "cell_type": "code",
      "metadata": {
        "colab": {
          "base_uri": "https://localhost:8080/"
        },
        "id": "vb-3HFPvBdhR",
        "outputId": "13804b61-67a9-45dc-da58-fe667103c646"
      },
      "source": [
        "pesosIguais = np.array(list(carteira1.values()))\r\n",
        "\r\n",
        "variancia_portfolio1 = np.dot(pesosIguais, np.dot(taxas_retorno.cov()*days_bolsa, pesosIguais))\r\n",
        "volatilidade_portfolio1 = np.sqrt(variancia_portfolio1)\r\n",
        "volatilidade_portfolio1"
      ],
      "execution_count": null,
      "outputs": [
        {
          "output_type": "execute_result",
          "data": {
            "text/plain": [
              "0.3814372407366256"
            ]
          },
          "metadata": {
            "tags": []
          },
          "execution_count": 36
        }
      ]
    },
    {
      "cell_type": "code",
      "metadata": {
        "colab": {
          "base_uri": "https://localhost:8080/"
        },
        "id": "nmHJNhltBk4J",
        "outputId": "12daacb0-3125-49c9-87fd-95c812c4abae"
      },
      "source": [
        "np.dot(taxas_retorno.cov() * days_bolsa, pesosIguais)"
      ],
      "execution_count": null,
      "outputs": [
        {
          "output_type": "execute_result",
          "data": {
            "text/plain": [
              "array([0.24381783, 0.15105928, 0.07719471, 0.16981978, 0.08558025,\n",
              "       0.07763848])"
            ]
          },
          "metadata": {
            "tags": []
          },
          "execution_count": 37
        }
      ]
    },
    {
      "cell_type": "code",
      "metadata": {
        "id": "Bz5n1c6VHzwg",
        "colab": {
          "base_uri": "https://localhost:8080/"
        },
        "outputId": "92a106bc-edec-40b6-def6-a30bd9010b88"
      },
      "source": [
        "pesosIndiceIbovespa = np.array(list(indiceIbovespa.values()))\r\n",
        "\r\n",
        "varianciaIndiceIbovespa = np.dot(pesosIndiceIbovespa, np.dot(taxas_retorno.cov()*days_bolsa, pesosIndiceIbovespa))\r\n",
        "volatilidadeIndiceIbovespa = np.sqrt(varianciaIndiceIbovespa)\r\n",
        "volatilidadeIndiceIbovespa"
      ],
      "execution_count": null,
      "outputs": [
        {
          "output_type": "execute_result",
          "data": {
            "text/plain": [
              "0.2690584233826408"
            ]
          },
          "metadata": {
            "tags": []
          },
          "execution_count": 38
        }
      ]
    },
    {
      "cell_type": "markdown",
      "metadata": {
        "id": "n7kDc5w4cRK6"
      },
      "source": [
        "## Risco sistemático e não sistemático\n",
        "\n",
        "- Risco sistemático: mudança diária no preço das ações, devido a eventos como recessão da economia, comportamento do cliente (eventos externos). Não pode ser eliminado e pode afetar todas as empresas\n",
        "- Risco não sistemático: Eventos específicos na empresa (depende do tipo de empresa)"
      ]
    },
    {
      "cell_type": "code",
      "metadata": {
        "colab": {
          "base_uri": "https://localhost:8080/",
          "height": 406
        },
        "id": "MSRjmyHqKoHO",
        "outputId": "04add8fd-0ec9-4d8a-da71-0a2b99bbd72b"
      },
      "source": [
        "taxas_retorno"
      ],
      "execution_count": null,
      "outputs": [
        {
          "output_type": "execute_result",
          "data": {
            "text/html": [
              "<div>\n",
              "<style scoped>\n",
              "    .dataframe tbody tr th:only-of-type {\n",
              "        vertical-align: middle;\n",
              "    }\n",
              "\n",
              "    .dataframe tbody tr th {\n",
              "        vertical-align: top;\n",
              "    }\n",
              "\n",
              "    .dataframe thead th {\n",
              "        text-align: right;\n",
              "    }\n",
              "</style>\n",
              "<table border=\"1\" class=\"dataframe\">\n",
              "  <thead>\n",
              "    <tr style=\"text-align: right;\">\n",
              "      <th></th>\n",
              "      <th>GOL</th>\n",
              "      <th>CVC</th>\n",
              "      <th>WEGE</th>\n",
              "      <th>MGLU</th>\n",
              "      <th>TOTS</th>\n",
              "      <th>BOVA</th>\n",
              "    </tr>\n",
              "  </thead>\n",
              "  <tbody>\n",
              "    <tr>\n",
              "      <th>0</th>\n",
              "      <td>NaN</td>\n",
              "      <td>NaN</td>\n",
              "      <td>NaN</td>\n",
              "      <td>NaN</td>\n",
              "      <td>NaN</td>\n",
              "      <td>NaN</td>\n",
              "    </tr>\n",
              "    <tr>\n",
              "      <th>1</th>\n",
              "      <td>-0.009340</td>\n",
              "      <td>-0.013158</td>\n",
              "      <td>0.006818</td>\n",
              "      <td>0.018792</td>\n",
              "      <td>-0.030726</td>\n",
              "      <td>-0.019890</td>\n",
              "    </tr>\n",
              "    <tr>\n",
              "      <th>2</th>\n",
              "      <td>0.024242</td>\n",
              "      <td>-0.013333</td>\n",
              "      <td>-0.014834</td>\n",
              "      <td>-0.013175</td>\n",
              "      <td>-0.062536</td>\n",
              "      <td>0.005613</td>\n",
              "    </tr>\n",
              "    <tr>\n",
              "      <th>3</th>\n",
              "      <td>-0.043392</td>\n",
              "      <td>-0.008784</td>\n",
              "      <td>-0.011457</td>\n",
              "      <td>0.033380</td>\n",
              "      <td>-0.007070</td>\n",
              "      <td>0.033705</td>\n",
              "    </tr>\n",
              "    <tr>\n",
              "      <th>4</th>\n",
              "      <td>-0.019244</td>\n",
              "      <td>-0.035447</td>\n",
              "      <td>0.016887</td>\n",
              "      <td>-0.007752</td>\n",
              "      <td>0.023220</td>\n",
              "      <td>0.007477</td>\n",
              "    </tr>\n",
              "    <tr>\n",
              "      <th>...</th>\n",
              "      <td>...</td>\n",
              "      <td>...</td>\n",
              "      <td>...</td>\n",
              "      <td>...</td>\n",
              "      <td>...</td>\n",
              "      <td>...</td>\n",
              "    </tr>\n",
              "    <tr>\n",
              "      <th>1498</th>\n",
              "      <td>-0.003954</td>\n",
              "      <td>-0.046210</td>\n",
              "      <td>0.006960</td>\n",
              "      <td>0.020008</td>\n",
              "      <td>0.013445</td>\n",
              "      <td>-0.011183</td>\n",
              "    </tr>\n",
              "    <tr>\n",
              "      <th>1499</th>\n",
              "      <td>-0.020291</td>\n",
              "      <td>-0.050626</td>\n",
              "      <td>0.007818</td>\n",
              "      <td>-0.009615</td>\n",
              "      <td>-0.001327</td>\n",
              "      <td>-0.001855</td>\n",
              "    </tr>\n",
              "    <tr>\n",
              "      <th>1500</th>\n",
              "      <td>0.036920</td>\n",
              "      <td>0.033257</td>\n",
              "      <td>-0.002923</td>\n",
              "      <td>0.001553</td>\n",
              "      <td>-0.045500</td>\n",
              "      <td>0.000000</td>\n",
              "    </tr>\n",
              "    <tr>\n",
              "      <th>1501</th>\n",
              "      <td>0.068606</td>\n",
              "      <td>0.067703</td>\n",
              "      <td>-0.008118</td>\n",
              "      <td>0.015510</td>\n",
              "      <td>0.025052</td>\n",
              "      <td>0.008321</td>\n",
              "    </tr>\n",
              "    <tr>\n",
              "      <th>1502</th>\n",
              "      <td>-0.026818</td>\n",
              "      <td>-0.011434</td>\n",
              "      <td>-0.021371</td>\n",
              "      <td>-0.024055</td>\n",
              "      <td>-0.030550</td>\n",
              "      <td>-0.029409</td>\n",
              "    </tr>\n",
              "  </tbody>\n",
              "</table>\n",
              "<p>1503 rows × 6 columns</p>\n",
              "</div>"
            ],
            "text/plain": [
              "           GOL       CVC      WEGE      MGLU      TOTS      BOVA\n",
              "0          NaN       NaN       NaN       NaN       NaN       NaN\n",
              "1    -0.009340 -0.013158  0.006818  0.018792 -0.030726 -0.019890\n",
              "2     0.024242 -0.013333 -0.014834 -0.013175 -0.062536  0.005613\n",
              "3    -0.043392 -0.008784 -0.011457  0.033380 -0.007070  0.033705\n",
              "4    -0.019244 -0.035447  0.016887 -0.007752  0.023220  0.007477\n",
              "...        ...       ...       ...       ...       ...       ...\n",
              "1498 -0.003954 -0.046210  0.006960  0.020008  0.013445 -0.011183\n",
              "1499 -0.020291 -0.050626  0.007818 -0.009615 -0.001327 -0.001855\n",
              "1500  0.036920  0.033257 -0.002923  0.001553 -0.045500  0.000000\n",
              "1501  0.068606  0.067703 -0.008118  0.015510  0.025052  0.008321\n",
              "1502 -0.026818 -0.011434 -0.021371 -0.024055 -0.030550 -0.029409\n",
              "\n",
              "[1503 rows x 6 columns]"
            ]
          },
          "metadata": {
            "tags": []
          },
          "execution_count": 39
        }
      ]
    },
    {
      "cell_type": "code",
      "metadata": {
        "colab": {
          "base_uri": "https://localhost:8080/"
        },
        "id": "FCDxowKVKsfS",
        "outputId": "fc4df360-8d37-4a7c-b4f3-e2ca2f552b5f"
      },
      "source": [
        "dct_carteira1 = dict(zip(dataset.columns,pesosIguais))\r\n",
        "dct_carteira1"
      ],
      "execution_count": null,
      "outputs": [
        {
          "output_type": "execute_result",
          "data": {
            "text/plain": [
              "{'BOVA': 0.0, 'CVC': 0.2, 'GOL': 0.2, 'MGLU': 0.2, 'TOTS': 0.2, 'WEGE': 0.2}"
            ]
          },
          "metadata": {
            "tags": []
          },
          "execution_count": 40
        }
      ]
    },
    {
      "cell_type": "code",
      "metadata": {
        "colab": {
          "base_uri": "https://localhost:8080/"
        },
        "id": "cZUl4RjJK408",
        "outputId": "1d9e33a3-40a9-47b0-e560-aad4569eb7e5"
      },
      "source": [
        "dict(zip(dataset.columns,pesosIndiceIbovespa))"
      ],
      "execution_count": null,
      "outputs": [
        {
          "output_type": "execute_result",
          "data": {
            "text/plain": [
              "{'BOVA': 1.0, 'CVC': 0.0, 'GOL': 0.0, 'MGLU': 0.0, 'TOTS': 0.0, 'WEGE': 0.0}"
            ]
          },
          "metadata": {
            "tags": []
          },
          "execution_count": 41
        }
      ]
    },
    {
      "cell_type": "code",
      "metadata": {
        "colab": {
          "base_uri": "https://localhost:8080/"
        },
        "id": "RBSTwW0qK8rf",
        "outputId": "db48ba98-4549-4389-b8c7-4fc5ff4135e3"
      },
      "source": [
        "taxas_retorno.var() * days_bolsa"
      ],
      "execution_count": null,
      "outputs": [
        {
          "output_type": "execute_result",
          "data": {
            "text/plain": [
              "GOL     0.647183\n",
              "CVC     0.298183\n",
              "WEGE    0.122266\n",
              "MGLU    0.427458\n",
              "TOTS    0.146450\n",
              "BOVA    0.072392\n",
              "dtype: float64"
            ]
          },
          "metadata": {
            "tags": []
          },
          "execution_count": 42
        }
      ]
    },
    {
      "cell_type": "code",
      "metadata": {
        "colab": {
          "base_uri": "https://localhost:8080/"
        },
        "id": "ANESMtW1LcSA",
        "outputId": "884f9889-45a9-4cf1-8fe3-8332814acd6c"
      },
      "source": [
        "varianciaPesosCarteira1 = (taxas_retorno.var() * days_bolsa) * pesosIguais\n",
        "varianciaPesosCarteira1"
      ],
      "execution_count": null,
      "outputs": [
        {
          "output_type": "execute_result",
          "data": {
            "text/plain": [
              "GOL     0.129437\n",
              "CVC     0.059637\n",
              "WEGE    0.024453\n",
              "MGLU    0.085492\n",
              "TOTS    0.029290\n",
              "BOVA    0.000000\n",
              "dtype: float64"
            ]
          },
          "metadata": {
            "tags": []
          },
          "execution_count": 43
        }
      ]
    },
    {
      "cell_type": "code",
      "metadata": {
        "colab": {
          "base_uri": "https://localhost:8080/"
        },
        "id": "nONXZUzyLzfD",
        "outputId": "4b76b277-d062-40a9-945f-4ea2dc01780e"
      },
      "source": [
        "#TODO: check why first is positive\n",
        "sub1 = 2*varianciaPesosCarteira1[0] - varianciaPesosCarteira1.sum()\n",
        "\n",
        "sub1_ = varianciaPesosCarteira1[0] - varianciaPesosCarteira1[1] - varianciaPesosCarteira1[2] - varianciaPesosCarteira1[3] - varianciaPesosCarteira1[4] - varianciaPesosCarteira1[5]\n",
        "assert np.allclose(sub1, sub1_)\n",
        "sub1"
      ],
      "execution_count": null,
      "outputs": [
        {
          "output_type": "execute_result",
          "data": {
            "text/plain": [
              "-0.06943456527375391"
            ]
          },
          "metadata": {
            "tags": []
          },
          "execution_count": 44
        }
      ]
    },
    {
      "cell_type": "code",
      "metadata": {
        "colab": {
          "base_uri": "https://localhost:8080/"
        },
        "id": "L4q3AgcvMP0h",
        "outputId": "7f95b1af-b2bd-45f7-d707-c9ff8a045bbf"
      },
      "source": [
        "riscoNaoSistematico1 = (variancia_portfolio1 - sub1)\n",
        "riscoNaoSistematico1"
      ],
      "execution_count": null,
      "outputs": [
        {
          "output_type": "execute_result",
          "data": {
            "text/plain": [
              "0.2149289338945244"
            ]
          },
          "metadata": {
            "tags": []
          },
          "execution_count": 45
        }
      ]
    },
    {
      "cell_type": "code",
      "metadata": {
        "colab": {
          "base_uri": "https://localhost:8080/"
        },
        "id": "Wak9fBVoMqL7",
        "outputId": "d814dfbc-56cb-4479-d521-7b926e6f6fa2"
      },
      "source": [
        "varianciaPesosIndiceIbovespa = (taxas_retorno.var() * days_bolsa) * pesosIndiceIbovespa\n",
        "varianciaPesosIndiceIbovespa"
      ],
      "execution_count": null,
      "outputs": [
        {
          "output_type": "execute_result",
          "data": {
            "text/plain": [
              "GOL     0.000000\n",
              "CVC     0.000000\n",
              "WEGE    0.000000\n",
              "MGLU    0.000000\n",
              "TOTS    0.000000\n",
              "BOVA    0.072392\n",
              "dtype: float64"
            ]
          },
          "metadata": {
            "tags": []
          },
          "execution_count": 46
        }
      ]
    },
    {
      "cell_type": "code",
      "metadata": {
        "colab": {
          "base_uri": "https://localhost:8080/"
        },
        "id": "xWv0vjrAM1Kv",
        "outputId": "0616b412-f268-4d4b-fe3f-aba957e71243"
      },
      "source": [
        "subIndiceIbovespa = 2*varianciaPesosIndiceIbovespa[0] - varianciaPesosIndiceIbovespa.sum()\n",
        "subIndiceIbovespa"
      ],
      "execution_count": null,
      "outputs": [
        {
          "output_type": "execute_result",
          "data": {
            "text/plain": [
              "-0.07239243519315239"
            ]
          },
          "metadata": {
            "tags": []
          },
          "execution_count": 47
        }
      ]
    },
    {
      "cell_type": "code",
      "metadata": {
        "colab": {
          "base_uri": "https://localhost:8080/"
        },
        "id": "9Aq29L-VNAJ0",
        "outputId": "73b75ebe-8d97-4fee-d41a-290f15eb1f8c"
      },
      "source": [
        "riscoNaoSistematicoIndiceIbovespa = (varianciaIndiceIbovespa - subIndiceIbovespa)\n",
        "riscoNaoSistematicoIndiceIbovespa"
      ],
      "execution_count": null,
      "outputs": [
        {
          "output_type": "execute_result",
          "data": {
            "text/plain": [
              "0.14478487038630478"
            ]
          },
          "metadata": {
            "tags": []
          },
          "execution_count": 48
        }
      ]
    },
    {
      "cell_type": "markdown",
      "metadata": {
        "id": "MAEA6W5lqAeu"
      },
      "source": [
        "## Exercício"
      ]
    },
    {
      "cell_type": "code",
      "metadata": {
        "id": "Kpx-2SFubkct"
      },
      "source": [
        "acoes_ex = ['ABEV3.SA', 'ODPV3.SA', 'VIVT3.SA', 'PETR3.SA', 'BBAS3.SA', 'BOVA11.SA']\r\n",
        "acoes_ex_df = pd.DataFrame()\r\n",
        "for acao in acoes_ex:\r\n",
        "  acoes_ex_df[acao] = data.DataReader(acao, data_source='yahoo', start='2015-01-01')['Close']\r\n",
        "acoes_ex_df.dropna(inplace=True)\r\n",
        "acoes_ex_df = acoes_ex_df.rename(columns={'ABEV3.SA': 'AMBEV', 'ODPV3.SA': 'ODONTOPREV', 'VIVT3.SA': 'VIVO',\r\n",
        "                                          'PETR3.SA': 'PETROBRAS', 'BBAS3.SA': 'BBRASIL', 'BOVA11.SA': 'BOVA'})\r\n",
        "acoes_ex_df.to_csv('acoes_ex.csv')"
      ],
      "execution_count": null,
      "outputs": []
    },
    {
      "cell_type": "code",
      "metadata": {
        "colab": {
          "base_uri": "https://localhost:8080/",
          "height": 406
        },
        "id": "KdBstl18qCA5",
        "outputId": "a4095aea-0066-4860-c155-d03b6f0a91f4"
      },
      "source": [
        "dataset = pd.read_csv('acoes_ex.csv')\n",
        "dataset['Date'] = pd.to_datetime(dataset['Date'])\n",
        "dataset"
      ],
      "execution_count": null,
      "outputs": [
        {
          "output_type": "execute_result",
          "data": {
            "text/html": [
              "<div>\n",
              "<style scoped>\n",
              "    .dataframe tbody tr th:only-of-type {\n",
              "        vertical-align: middle;\n",
              "    }\n",
              "\n",
              "    .dataframe tbody tr th {\n",
              "        vertical-align: top;\n",
              "    }\n",
              "\n",
              "    .dataframe thead th {\n",
              "        text-align: right;\n",
              "    }\n",
              "</style>\n",
              "<table border=\"1\" class=\"dataframe\">\n",
              "  <thead>\n",
              "    <tr style=\"text-align: right;\">\n",
              "      <th></th>\n",
              "      <th>Date</th>\n",
              "      <th>AMBEV</th>\n",
              "      <th>ODONTOPREV</th>\n",
              "      <th>VIVO</th>\n",
              "      <th>PETROBRAS</th>\n",
              "      <th>BBRASIL</th>\n",
              "      <th>BOVA</th>\n",
              "    </tr>\n",
              "  </thead>\n",
              "  <tbody>\n",
              "    <tr>\n",
              "      <th>0</th>\n",
              "      <td>2015-01-02</td>\n",
              "      <td>16.020000</td>\n",
              "      <td>9.37</td>\n",
              "      <td>37.820000</td>\n",
              "      <td>9.000000</td>\n",
              "      <td>22.650000</td>\n",
              "      <td>47.259998</td>\n",
              "    </tr>\n",
              "    <tr>\n",
              "      <th>1</th>\n",
              "      <td>2015-01-05</td>\n",
              "      <td>15.730000</td>\n",
              "      <td>9.62</td>\n",
              "      <td>37.070000</td>\n",
              "      <td>8.270000</td>\n",
              "      <td>22.180000</td>\n",
              "      <td>46.320000</td>\n",
              "    </tr>\n",
              "    <tr>\n",
              "      <th>2</th>\n",
              "      <td>2015-01-06</td>\n",
              "      <td>16.330000</td>\n",
              "      <td>9.55</td>\n",
              "      <td>36.150002</td>\n",
              "      <td>8.060000</td>\n",
              "      <td>22.490000</td>\n",
              "      <td>46.580002</td>\n",
              "    </tr>\n",
              "    <tr>\n",
              "      <th>3</th>\n",
              "      <td>2015-01-07</td>\n",
              "      <td>16.559999</td>\n",
              "      <td>9.69</td>\n",
              "      <td>37.389999</td>\n",
              "      <td>8.450000</td>\n",
              "      <td>23.480000</td>\n",
              "      <td>48.150002</td>\n",
              "    </tr>\n",
              "    <tr>\n",
              "      <th>4</th>\n",
              "      <td>2015-01-08</td>\n",
              "      <td>16.540001</td>\n",
              "      <td>9.66</td>\n",
              "      <td>38.910000</td>\n",
              "      <td>9.020000</td>\n",
              "      <td>23.559999</td>\n",
              "      <td>48.509998</td>\n",
              "    </tr>\n",
              "    <tr>\n",
              "      <th>...</th>\n",
              "      <td>...</td>\n",
              "      <td>...</td>\n",
              "      <td>...</td>\n",
              "      <td>...</td>\n",
              "      <td>...</td>\n",
              "      <td>...</td>\n",
              "      <td>...</td>\n",
              "    </tr>\n",
              "    <tr>\n",
              "      <th>1498</th>\n",
              "      <td>2021-01-22</td>\n",
              "      <td>15.030000</td>\n",
              "      <td>14.25</td>\n",
              "      <td>44.070000</td>\n",
              "      <td>27.700001</td>\n",
              "      <td>33.419998</td>\n",
              "      <td>113.180000</td>\n",
              "    </tr>\n",
              "    <tr>\n",
              "      <th>1499</th>\n",
              "      <td>2021-01-26</td>\n",
              "      <td>15.400000</td>\n",
              "      <td>14.35</td>\n",
              "      <td>44.830002</td>\n",
              "      <td>27.600000</td>\n",
              "      <td>32.790001</td>\n",
              "      <td>112.970001</td>\n",
              "    </tr>\n",
              "    <tr>\n",
              "      <th>1500</th>\n",
              "      <td>2021-01-27</td>\n",
              "      <td>15.400000</td>\n",
              "      <td>14.18</td>\n",
              "      <td>45.660000</td>\n",
              "      <td>27.980000</td>\n",
              "      <td>33.750000</td>\n",
              "      <td>112.970001</td>\n",
              "    </tr>\n",
              "    <tr>\n",
              "      <th>1501</th>\n",
              "      <td>2021-01-28</td>\n",
              "      <td>15.540000</td>\n",
              "      <td>14.53</td>\n",
              "      <td>45.709999</td>\n",
              "      <td>28.600000</td>\n",
              "      <td>34.540001</td>\n",
              "      <td>113.910004</td>\n",
              "    </tr>\n",
              "    <tr>\n",
              "      <th>1502</th>\n",
              "      <td>2021-01-29</td>\n",
              "      <td>15.300000</td>\n",
              "      <td>14.23</td>\n",
              "      <td>45.509998</td>\n",
              "      <td>27.730000</td>\n",
              "      <td>34.070000</td>\n",
              "      <td>110.559998</td>\n",
              "    </tr>\n",
              "  </tbody>\n",
              "</table>\n",
              "<p>1503 rows × 7 columns</p>\n",
              "</div>"
            ],
            "text/plain": [
              "           Date      AMBEV  ODONTOPREV  ...  PETROBRAS    BBRASIL        BOVA\n",
              "0    2015-01-02  16.020000        9.37  ...   9.000000  22.650000   47.259998\n",
              "1    2015-01-05  15.730000        9.62  ...   8.270000  22.180000   46.320000\n",
              "2    2015-01-06  16.330000        9.55  ...   8.060000  22.490000   46.580002\n",
              "3    2015-01-07  16.559999        9.69  ...   8.450000  23.480000   48.150002\n",
              "4    2015-01-08  16.540001        9.66  ...   9.020000  23.559999   48.509998\n",
              "...         ...        ...         ...  ...        ...        ...         ...\n",
              "1498 2021-01-22  15.030000       14.25  ...  27.700001  33.419998  113.180000\n",
              "1499 2021-01-26  15.400000       14.35  ...  27.600000  32.790001  112.970001\n",
              "1500 2021-01-27  15.400000       14.18  ...  27.980000  33.750000  112.970001\n",
              "1501 2021-01-28  15.540000       14.53  ...  28.600000  34.540001  113.910004\n",
              "1502 2021-01-29  15.300000       14.23  ...  27.730000  34.070000  110.559998\n",
              "\n",
              "[1503 rows x 7 columns]"
            ]
          },
          "metadata": {
            "tags": []
          },
          "execution_count": 50
        }
      ]
    },
    {
      "cell_type": "code",
      "metadata": {
        "colab": {
          "base_uri": "https://localhost:8080/",
          "height": 197
        },
        "id": "w6nJw2ETqKGQ",
        "outputId": "b416d51f-45a0-4a37-a777-ea399d8c3c1d"
      },
      "source": [
        "dataset.drop(columns=['Date'], inplace=True)\n",
        "dataset.head()"
      ],
      "execution_count": null,
      "outputs": [
        {
          "output_type": "execute_result",
          "data": {
            "text/html": [
              "<div>\n",
              "<style scoped>\n",
              "    .dataframe tbody tr th:only-of-type {\n",
              "        vertical-align: middle;\n",
              "    }\n",
              "\n",
              "    .dataframe tbody tr th {\n",
              "        vertical-align: top;\n",
              "    }\n",
              "\n",
              "    .dataframe thead th {\n",
              "        text-align: right;\n",
              "    }\n",
              "</style>\n",
              "<table border=\"1\" class=\"dataframe\">\n",
              "  <thead>\n",
              "    <tr style=\"text-align: right;\">\n",
              "      <th></th>\n",
              "      <th>AMBEV</th>\n",
              "      <th>ODONTOPREV</th>\n",
              "      <th>VIVO</th>\n",
              "      <th>PETROBRAS</th>\n",
              "      <th>BBRASIL</th>\n",
              "      <th>BOVA</th>\n",
              "    </tr>\n",
              "  </thead>\n",
              "  <tbody>\n",
              "    <tr>\n",
              "      <th>0</th>\n",
              "      <td>16.020000</td>\n",
              "      <td>9.37</td>\n",
              "      <td>37.820000</td>\n",
              "      <td>9.00</td>\n",
              "      <td>22.650000</td>\n",
              "      <td>47.259998</td>\n",
              "    </tr>\n",
              "    <tr>\n",
              "      <th>1</th>\n",
              "      <td>15.730000</td>\n",
              "      <td>9.62</td>\n",
              "      <td>37.070000</td>\n",
              "      <td>8.27</td>\n",
              "      <td>22.180000</td>\n",
              "      <td>46.320000</td>\n",
              "    </tr>\n",
              "    <tr>\n",
              "      <th>2</th>\n",
              "      <td>16.330000</td>\n",
              "      <td>9.55</td>\n",
              "      <td>36.150002</td>\n",
              "      <td>8.06</td>\n",
              "      <td>22.490000</td>\n",
              "      <td>46.580002</td>\n",
              "    </tr>\n",
              "    <tr>\n",
              "      <th>3</th>\n",
              "      <td>16.559999</td>\n",
              "      <td>9.69</td>\n",
              "      <td>37.389999</td>\n",
              "      <td>8.45</td>\n",
              "      <td>23.480000</td>\n",
              "      <td>48.150002</td>\n",
              "    </tr>\n",
              "    <tr>\n",
              "      <th>4</th>\n",
              "      <td>16.540001</td>\n",
              "      <td>9.66</td>\n",
              "      <td>38.910000</td>\n",
              "      <td>9.02</td>\n",
              "      <td>23.559999</td>\n",
              "      <td>48.509998</td>\n",
              "    </tr>\n",
              "  </tbody>\n",
              "</table>\n",
              "</div>"
            ],
            "text/plain": [
              "       AMBEV  ODONTOPREV       VIVO  PETROBRAS    BBRASIL       BOVA\n",
              "0  16.020000        9.37  37.820000       9.00  22.650000  47.259998\n",
              "1  15.730000        9.62  37.070000       8.27  22.180000  46.320000\n",
              "2  16.330000        9.55  36.150002       8.06  22.490000  46.580002\n",
              "3  16.559999        9.69  37.389999       8.45  23.480000  48.150002\n",
              "4  16.540001        9.66  38.910000       9.02  23.559999  48.509998"
            ]
          },
          "metadata": {
            "tags": []
          },
          "execution_count": 51
        }
      ]
    },
    {
      "cell_type": "code",
      "metadata": {
        "colab": {
          "base_uri": "https://localhost:8080/",
          "height": 406
        },
        "id": "gKxOPCrxrDPs",
        "outputId": "1a13cf48-3bc4-42eb-d2ba-09977fe65ed6"
      },
      "source": [
        "taxas_retorno = (dataset / dataset.shift(1)) - 1\n",
        "taxas_retorno"
      ],
      "execution_count": null,
      "outputs": [
        {
          "output_type": "execute_result",
          "data": {
            "text/html": [
              "<div>\n",
              "<style scoped>\n",
              "    .dataframe tbody tr th:only-of-type {\n",
              "        vertical-align: middle;\n",
              "    }\n",
              "\n",
              "    .dataframe tbody tr th {\n",
              "        vertical-align: top;\n",
              "    }\n",
              "\n",
              "    .dataframe thead th {\n",
              "        text-align: right;\n",
              "    }\n",
              "</style>\n",
              "<table border=\"1\" class=\"dataframe\">\n",
              "  <thead>\n",
              "    <tr style=\"text-align: right;\">\n",
              "      <th></th>\n",
              "      <th>AMBEV</th>\n",
              "      <th>ODONTOPREV</th>\n",
              "      <th>VIVO</th>\n",
              "      <th>PETROBRAS</th>\n",
              "      <th>BBRASIL</th>\n",
              "      <th>BOVA</th>\n",
              "    </tr>\n",
              "  </thead>\n",
              "  <tbody>\n",
              "    <tr>\n",
              "      <th>0</th>\n",
              "      <td>NaN</td>\n",
              "      <td>NaN</td>\n",
              "      <td>NaN</td>\n",
              "      <td>NaN</td>\n",
              "      <td>NaN</td>\n",
              "      <td>NaN</td>\n",
              "    </tr>\n",
              "    <tr>\n",
              "      <th>1</th>\n",
              "      <td>-0.018102</td>\n",
              "      <td>0.026681</td>\n",
              "      <td>-0.019831</td>\n",
              "      <td>-0.081111</td>\n",
              "      <td>-0.020751</td>\n",
              "      <td>-0.019890</td>\n",
              "    </tr>\n",
              "    <tr>\n",
              "      <th>2</th>\n",
              "      <td>0.038144</td>\n",
              "      <td>-0.007276</td>\n",
              "      <td>-0.024818</td>\n",
              "      <td>-0.025393</td>\n",
              "      <td>0.013977</td>\n",
              "      <td>0.005613</td>\n",
              "    </tr>\n",
              "    <tr>\n",
              "      <th>3</th>\n",
              "      <td>0.014084</td>\n",
              "      <td>0.014660</td>\n",
              "      <td>0.034301</td>\n",
              "      <td>0.048387</td>\n",
              "      <td>0.044020</td>\n",
              "      <td>0.033705</td>\n",
              "    </tr>\n",
              "    <tr>\n",
              "      <th>4</th>\n",
              "      <td>-0.001208</td>\n",
              "      <td>-0.003096</td>\n",
              "      <td>0.040653</td>\n",
              "      <td>0.067456</td>\n",
              "      <td>0.003407</td>\n",
              "      <td>0.007477</td>\n",
              "    </tr>\n",
              "    <tr>\n",
              "      <th>...</th>\n",
              "      <td>...</td>\n",
              "      <td>...</td>\n",
              "      <td>...</td>\n",
              "      <td>...</td>\n",
              "      <td>...</td>\n",
              "      <td>...</td>\n",
              "    </tr>\n",
              "    <tr>\n",
              "      <th>1498</th>\n",
              "      <td>-0.037156</td>\n",
              "      <td>-0.012474</td>\n",
              "      <td>0.005705</td>\n",
              "      <td>-0.013884</td>\n",
              "      <td>-0.022235</td>\n",
              "      <td>-0.011183</td>\n",
              "    </tr>\n",
              "    <tr>\n",
              "      <th>1499</th>\n",
              "      <td>0.024617</td>\n",
              "      <td>0.007018</td>\n",
              "      <td>0.017245</td>\n",
              "      <td>-0.003610</td>\n",
              "      <td>-0.018851</td>\n",
              "      <td>-0.001855</td>\n",
              "    </tr>\n",
              "    <tr>\n",
              "      <th>1500</th>\n",
              "      <td>0.000000</td>\n",
              "      <td>-0.011847</td>\n",
              "      <td>0.018514</td>\n",
              "      <td>0.013768</td>\n",
              "      <td>0.029277</td>\n",
              "      <td>0.000000</td>\n",
              "    </tr>\n",
              "    <tr>\n",
              "      <th>1501</th>\n",
              "      <td>0.009091</td>\n",
              "      <td>0.024683</td>\n",
              "      <td>0.001095</td>\n",
              "      <td>0.022159</td>\n",
              "      <td>0.023407</td>\n",
              "      <td>0.008321</td>\n",
              "    </tr>\n",
              "    <tr>\n",
              "      <th>1502</th>\n",
              "      <td>-0.015444</td>\n",
              "      <td>-0.020647</td>\n",
              "      <td>-0.004375</td>\n",
              "      <td>-0.030420</td>\n",
              "      <td>-0.013607</td>\n",
              "      <td>-0.029409</td>\n",
              "    </tr>\n",
              "  </tbody>\n",
              "</table>\n",
              "<p>1503 rows × 6 columns</p>\n",
              "</div>"
            ],
            "text/plain": [
              "         AMBEV  ODONTOPREV      VIVO  PETROBRAS   BBRASIL      BOVA\n",
              "0          NaN         NaN       NaN        NaN       NaN       NaN\n",
              "1    -0.018102    0.026681 -0.019831  -0.081111 -0.020751 -0.019890\n",
              "2     0.038144   -0.007276 -0.024818  -0.025393  0.013977  0.005613\n",
              "3     0.014084    0.014660  0.034301   0.048387  0.044020  0.033705\n",
              "4    -0.001208   -0.003096  0.040653   0.067456  0.003407  0.007477\n",
              "...        ...         ...       ...        ...       ...       ...\n",
              "1498 -0.037156   -0.012474  0.005705  -0.013884 -0.022235 -0.011183\n",
              "1499  0.024617    0.007018  0.017245  -0.003610 -0.018851 -0.001855\n",
              "1500  0.000000   -0.011847  0.018514   0.013768  0.029277  0.000000\n",
              "1501  0.009091    0.024683  0.001095   0.022159  0.023407  0.008321\n",
              "1502 -0.015444   -0.020647 -0.004375  -0.030420 -0.013607 -0.029409\n",
              "\n",
              "[1503 rows x 6 columns]"
            ]
          },
          "metadata": {
            "tags": []
          },
          "execution_count": 52
        }
      ]
    },
    {
      "cell_type": "code",
      "metadata": {
        "colab": {
          "base_uri": "https://localhost:8080/",
          "height": 486
        },
        "id": "hsjpcPaSNvG8",
        "outputId": "bb801e92-66f3-43cf-a802-fd298f05a50a"
      },
      "source": [
        "# Empresas BOVA: http://bvmf.bmfbovespa.com.br/indices/ResumoCarteiraQuadrimestre.aspx?Indice=IBOV&idioma=pt-br\n",
        "plt.figure(figsize=(8,8))\n",
        "sns.heatmap(taxas_retorno.corr(), annot=True, cmap=\"RdBu_r\");"
      ],
      "execution_count": null,
      "outputs": [
        {
          "output_type": "display_data",
          "data": {
            "image/png": "[encoded data removed]",
            "text/plain": [
              "<Figure size 576x576 with 2 Axes>"
            ]
          },
          "metadata": {
            "tags": [],
            "needs_background": "light"
          }
        }
      ]
    },
    {
      "cell_type": "code",
      "metadata": {
        "colab": {
          "base_uri": "https://localhost:8080/"
        },
        "id": "sq9Ahe4frGqE",
        "outputId": "6d977e88-c952-4a80-97df-44c18989d089"
      },
      "source": [
        "taxas_retorno.std() * np.sqrt(days_bolsa) # Anualizado"
      ],
      "execution_count": null,
      "outputs": [
        {
          "output_type": "execute_result",
          "data": {
            "text/plain": [
              "AMBEV         0.275835\n",
              "ODONTOPREV    0.315432\n",
              "VIVO          0.317176\n",
              "PETROBRAS     0.527692\n",
              "BBRASIL       0.466421\n",
              "BOVA          0.269058\n",
              "dtype: float64"
            ]
          },
          "metadata": {
            "tags": []
          },
          "execution_count": 54
        }
      ]
    },
    {
      "cell_type": "code",
      "metadata": {
        "id": "0XHlmb4jrMjn",
        "colab": {
          "base_uri": "https://localhost:8080/"
        },
        "outputId": "c9494012-bfbf-4bba-c575-8dfc5b8a7cc3"
      },
      "source": [
        "variancia_portfolio2 = np.dot(pesosIguais, np.dot(taxas_retorno.cov()*days_bolsa, pesosIguais))\r\n",
        "variancia_portfolio2\r\n",
        "volatilidade_portfolio2 = np.sqrt(np.dot(pesosIguais, np.dot(taxas_retorno.cov()*days_bolsa, pesosIguais)))\r\n",
        "volatilidade_portfolio2"
      ],
      "execution_count": null,
      "outputs": [
        {
          "output_type": "execute_result",
          "data": {
            "text/plain": [
              "0.27208463285574747"
            ]
          },
          "metadata": {
            "tags": []
          },
          "execution_count": 55
        }
      ]
    },
    {
      "cell_type": "code",
      "metadata": {
        "colab": {
          "base_uri": "https://localhost:8080/"
        },
        "id": "CyzleQy4Qjno",
        "outputId": "f4d71171-e23f-439c-8ce0-a571dddf6b9b"
      },
      "source": [
        "dct_carteira2 = dict(zip(dataset.columns,pesosIguais))\n",
        "dct_carteira2"
      ],
      "execution_count": null,
      "outputs": [
        {
          "output_type": "execute_result",
          "data": {
            "text/plain": [
              "{'AMBEV': 0.2,\n",
              " 'BBRASIL': 0.2,\n",
              " 'BOVA': 0.0,\n",
              " 'ODONTOPREV': 0.2,\n",
              " 'PETROBRAS': 0.2,\n",
              " 'VIVO': 0.2}"
            ]
          },
          "metadata": {
            "tags": []
          },
          "execution_count": 56
        }
      ]
    },
    {
      "cell_type": "code",
      "metadata": {
        "colab": {
          "base_uri": "https://localhost:8080/"
        },
        "id": "v-Cd9Oj1rgcL",
        "outputId": "21567110-813a-442e-9764-eb7a1a75cb10"
      },
      "source": [
        "varianciaPesosCarteira2 = (taxas_retorno.var()*days_bolsa) * pesosIguais\n",
        "sub2 = 2*varianciaPesosCarteira2[0] - varianciaPesosCarteira2.sum()\n",
        "riscoNaoSistematico2 = (variancia_portfolio2 - sub2)\n",
        "riscoNaoSistematico2"
      ],
      "execution_count": null,
      "outputs": [
        {
          "output_type": "execute_result",
          "data": {
            "text/plain": [
              "0.1980342604308903"
            ]
          },
          "metadata": {
            "tags": []
          },
          "execution_count": 57
        }
      ]
    },
    {
      "cell_type": "markdown",
      "metadata": {
        "id": "dah0XTmDgelt"
      },
      "source": [
        "Menos risco: volatilidade e risco não sistemático mais baixo."
      ]
    },
    {
      "cell_type": "code",
      "metadata": {
        "colab": {
          "base_uri": "https://localhost:8080/",
          "height": 137
        },
        "id": "XxgVxY-De94k",
        "outputId": "c09a610c-0493-48f1-efde-03611eae2d43"
      },
      "source": [
        "df_risco = pd.DataFrame(\r\n",
        "    columns=[\"Portfólio\",\"Risco Não Sistemático\",\"Volatilidade\"],\r\n",
        "    data = [[\"Carteira 1\", riscoNaoSistematico1, volatilidade_portfolio1],\r\n",
        "            [\"Carteira 2\", riscoNaoSistematico2, volatilidade_portfolio2],\r\n",
        "            [\"IBOVESPA\", riscoNaoSistematicoIndiceIbovespa, volatilidadeIndiceIbovespa]\r\n",
        "            ])\r\n",
        "df_risco\r\n"
      ],
      "execution_count": null,
      "outputs": [
        {
          "output_type": "execute_result",
          "data": {
            "text/html": [
              "<div>\n",
              "<style scoped>\n",
              "    .dataframe tbody tr th:only-of-type {\n",
              "        vertical-align: middle;\n",
              "    }\n",
              "\n",
              "    .dataframe tbody tr th {\n",
              "        vertical-align: top;\n",
              "    }\n",
              "\n",
              "    .dataframe thead th {\n",
              "        text-align: right;\n",
              "    }\n",
              "</style>\n",
              "<table border=\"1\" class=\"dataframe\">\n",
              "  <thead>\n",
              "    <tr style=\"text-align: right;\">\n",
              "      <th></th>\n",
              "      <th>Portfólio</th>\n",
              "      <th>Risco Não Sistemático</th>\n",
              "      <th>Volatilidade</th>\n",
              "    </tr>\n",
              "  </thead>\n",
              "  <tbody>\n",
              "    <tr>\n",
              "      <th>0</th>\n",
              "      <td>Carteira 1</td>\n",
              "      <td>0.214929</td>\n",
              "      <td>0.381437</td>\n",
              "    </tr>\n",
              "    <tr>\n",
              "      <th>1</th>\n",
              "      <td>Carteira 2</td>\n",
              "      <td>0.198034</td>\n",
              "      <td>0.272085</td>\n",
              "    </tr>\n",
              "    <tr>\n",
              "      <th>2</th>\n",
              "      <td>IBOVESPA</td>\n",
              "      <td>0.144785</td>\n",
              "      <td>0.269058</td>\n",
              "    </tr>\n",
              "  </tbody>\n",
              "</table>\n",
              "</div>"
            ],
            "text/plain": [
              "    Portfólio  Risco Não Sistemático  Volatilidade\n",
              "0  Carteira 1               0.214929      0.381437\n",
              "1  Carteira 2               0.198034      0.272085\n",
              "2    IBOVESPA               0.144785      0.269058"
            ]
          },
          "metadata": {
            "tags": []
          },
          "execution_count": 58
        }
      ]
    },
    {
      "cell_type": "code",
      "metadata": {
        "colab": {
          "base_uri": "https://localhost:8080/"
        },
        "id": "YUPDSmKuhrSr",
        "outputId": "d9318579-5a72-4ac1-9e1e-1ce5f277d049"
      },
      "source": [
        "dct_carteira1"
      ],
      "execution_count": null,
      "outputs": [
        {
          "output_type": "execute_result",
          "data": {
            "text/plain": [
              "{'BOVA': 0.0, 'CVC': 0.2, 'GOL': 0.2, 'MGLU': 0.2, 'TOTS': 0.2, 'WEGE': 0.2}"
            ]
          },
          "metadata": {
            "tags": []
          },
          "execution_count": 59
        }
      ]
    },
    {
      "cell_type": "code",
      "metadata": {
        "colab": {
          "base_uri": "https://localhost:8080/"
        },
        "id": "gQUSvkaMh6Hf",
        "outputId": "d3a1fb1a-17fb-4bae-8a68-b809347eea94"
      },
      "source": [
        "dct_carteira2"
      ],
      "execution_count": null,
      "outputs": [
        {
          "output_type": "execute_result",
          "data": {
            "text/plain": [
              "{'AMBEV': 0.2,\n",
              " 'BBRASIL': 0.2,\n",
              " 'BOVA': 0.0,\n",
              " 'ODONTOPREV': 0.2,\n",
              " 'PETROBRAS': 0.2,\n",
              " 'VIVO': 0.2}"
            ]
          },
          "metadata": {
            "tags": []
          },
          "execution_count": 60
        }
      ]
    },
    {
      "cell_type": "code",
      "metadata": {
        "colab": {
          "base_uri": "https://localhost:8080/",
          "height": 347
        },
        "id": "ghY3D3jPhmub",
        "outputId": "85359cce-5143-445b-ee0b-c4977d82de9b"
      },
      "source": [
        "df_bova.sort_values(by=df_bova.columns[-1], ascending=False).head(10)"
      ],
      "execution_count": null,
      "outputs": [
        {
          "output_type": "execute_result",
          "data": {
            "text/html": [
              "<div>\n",
              "<style scoped>\n",
              "    .dataframe tbody tr th:only-of-type {\n",
              "        vertical-align: middle;\n",
              "    }\n",
              "\n",
              "    .dataframe tbody tr th {\n",
              "        vertical-align: top;\n",
              "    }\n",
              "\n",
              "    .dataframe thead th {\n",
              "        text-align: right;\n",
              "    }\n",
              "</style>\n",
              "<table border=\"1\" class=\"dataframe\">\n",
              "  <thead>\n",
              "    <tr style=\"text-align: right;\">\n",
              "      <th></th>\n",
              "      <th>Código</th>\n",
              "      <th>Ação</th>\n",
              "      <th>Tipo</th>\n",
              "      <th>Qtde. Teórica (1)</th>\n",
              "      <th>Part. (%) (2)</th>\n",
              "    </tr>\n",
              "  </thead>\n",
              "  <tbody>\n",
              "    <tr>\n",
              "      <th>47</th>\n",
              "      <td>ITUB4</td>\n",
              "      <td>ITAUUNIBANCO</td>\n",
              "      <td>PN N1</td>\n",
              "      <td>4757466114</td>\n",
              "      <td>6,868</td>\n",
              "    </tr>\n",
              "    <tr>\n",
              "      <th>61</th>\n",
              "      <td>PETR4</td>\n",
              "      <td>PETROBRAS</td>\n",
              "      <td>PN N2</td>\n",
              "      <td>4566457037</td>\n",
              "      <td>5,91</td>\n",
              "    </tr>\n",
              "    <tr>\n",
              "      <th>2</th>\n",
              "      <td>B3SA3</td>\n",
              "      <td>B3</td>\n",
              "      <td>ON NM</td>\n",
              "      <td>1930877944</td>\n",
              "      <td>5,418</td>\n",
              "    </tr>\n",
              "    <tr>\n",
              "      <th>5</th>\n",
              "      <td>BBDC4</td>\n",
              "      <td>BRADESCO</td>\n",
              "      <td>PN EJ N1</td>\n",
              "      <td>4261649634</td>\n",
              "      <td>5,282</td>\n",
              "    </tr>\n",
              "    <tr>\n",
              "      <th>60</th>\n",
              "      <td>PETR3</td>\n",
              "      <td>PETROBRAS</td>\n",
              "      <td>ON N2</td>\n",
              "      <td>3307982840</td>\n",
              "      <td>4,358</td>\n",
              "    </tr>\n",
              "    <tr>\n",
              "      <th>0</th>\n",
              "      <td>ABEV3</td>\n",
              "      <td>AMBEV S/A</td>\n",
              "      <td>ON EJ</td>\n",
              "      <td>4355174839</td>\n",
              "      <td>3,112</td>\n",
              "    </tr>\n",
              "    <tr>\n",
              "      <th>54</th>\n",
              "      <td>MGLU3</td>\n",
              "      <td>MAGAZ LUIZA</td>\n",
              "      <td>ON EJ NM</td>\n",
              "      <td>2668955512</td>\n",
              "      <td>3,041</td>\n",
              "    </tr>\n",
              "    <tr>\n",
              "      <th>79</th>\n",
              "      <td>WEGE3</td>\n",
              "      <td>WEG</td>\n",
              "      <td>ON EJ NM</td>\n",
              "      <td>741148001</td>\n",
              "      <td>2,563</td>\n",
              "    </tr>\n",
              "    <tr>\n",
              "      <th>46</th>\n",
              "      <td>ITSA4</td>\n",
              "      <td>ITAUSA</td>\n",
              "      <td>PN N1</td>\n",
              "      <td>4515538171</td>\n",
              "      <td>2,419</td>\n",
              "    </tr>\n",
              "    <tr>\n",
              "      <th>3</th>\n",
              "      <td>BBAS3</td>\n",
              "      <td>BRASIL</td>\n",
              "      <td>ON NM</td>\n",
              "      <td>1283197221</td>\n",
              "      <td>2,274</td>\n",
              "    </tr>\n",
              "  </tbody>\n",
              "</table>\n",
              "</div>"
            ],
            "text/plain": [
              "   Código           Ação      Tipo  Qtde. Teórica (1) Part. (%) (2)\n",
              "47   ITUB4  ITAUUNIBANCO     PN N1         4757466114         6,868\n",
              "61   PETR4     PETROBRAS     PN N2         4566457037          5,91\n",
              "2    B3SA3            B3     ON NM         1930877944         5,418\n",
              "5    BBDC4      BRADESCO  PN EJ N1         4261649634         5,282\n",
              "60   PETR3     PETROBRAS     ON N2         3307982840         4,358\n",
              "0    ABEV3     AMBEV S/A     ON EJ         4355174839         3,112\n",
              "54   MGLU3   MAGAZ LUIZA  ON EJ NM         2668955512         3,041\n",
              "79   WEGE3           WEG  ON EJ NM          741148001         2,563\n",
              "46   ITSA4        ITAUSA     PN N1         4515538171         2,419\n",
              "3    BBAS3        BRASIL     ON NM         1283197221         2,274"
            ]
          },
          "metadata": {
            "tags": []
          },
          "execution_count": 61
        }
      ]
    },
    {
      "cell_type": "code",
      "metadata": {
        "id": "wbPU5NTNh7l_"
      },
      "source": [
        ""
      ],
      "execution_count": null,
      "outputs": []
    }
  ]
}